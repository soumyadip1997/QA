{
  "nbformat": 4,
  "nbformat_minor": 0,
  "metadata": {
    "colab": {
      "name": "QA2.ipynb",
      "provenance": [],
      "collapsed_sections": [],
      "include_colab_link": true
    },
    "kernelspec": {
      "name": "python3",
      "display_name": "Python 3"
    },
    "language_info": {
      "name": "python"
    },
    "accelerator": "GPU"
  },
  "cells": [
    {
      "cell_type": "markdown",
      "metadata": {
        "id": "view-in-github",
        "colab_type": "text"
      },
      "source": [
        "<a href=\"https://colab.research.google.com/github/soumyadip1997/QA/blob/main/QA2.ipynb\" target=\"_parent\"><img src=\"https://colab.research.google.com/assets/colab-badge.svg\" alt=\"Open In Colab\"/></a>"
      ]
    },
    {
      "cell_type": "markdown",
      "metadata": {
        "id": "T5zy8pv8_EQa"
      },
      "source": [
        "**Set the Runtime->Change Runtime Type to GPU**"
      ]
    },
    {
      "cell_type": "markdown",
      "metadata": {
        "id": "zLKfwNHlwnSE"
      },
      "source": [
        "# Protein 3d structure assessment with graph neural networks"
      ]
    },
    {
      "cell_type": "code",
      "metadata": {
        "colab": {
          "base_uri": "https://localhost:8080/"
        },
        "id": "R_3U6PueCCgv",
        "outputId": "51f1bc54-9a22-4735-c0ec-279cb13830c4"
      },
      "source": [
        "!rm -r Data\n",
        "!rm -r QA\n",
        "!pip install biopython\n",
        "!git clone https://github.com/soumyadip1997/QA\n",
        "!unzip QA/Data.zip\n",
        "!pip install py3Dmol\n"
      ],
      "execution_count": 1,
      "outputs": [
        {
          "output_type": "stream",
          "text": [
            "rm: cannot remove 'Data': No such file or directory\n",
            "rm: cannot remove 'QA': No such file or directory\n",
            "Collecting biopython\n",
            "  Downloading biopython-1.79-cp37-cp37m-manylinux_2_5_x86_64.manylinux1_x86_64.whl (2.3 MB)\n",
            "\u001b[K     |████████████████████████████████| 2.3 MB 5.1 MB/s \n",
            "\u001b[?25hRequirement already satisfied: numpy in /usr/local/lib/python3.7/dist-packages (from biopython) (1.19.5)\n",
            "Installing collected packages: biopython\n",
            "Successfully installed biopython-1.79\n",
            "Cloning into 'QA'...\n",
            "remote: Enumerating objects: 104, done.\u001b[K\n",
            "remote: Counting objects: 100% (104/104), done.\u001b[K\n",
            "remote: Compressing objects: 100% (102/102), done.\u001b[K\n",
            "remote: Total 104 (delta 55), reused 0 (delta 0), pack-reused 0\u001b[K\n",
            "Receiving objects: 100% (104/104), 21.16 MiB | 17.66 MiB/s, done.\n",
            "Resolving deltas: 100% (55/55), done.\n",
            "Archive:  QA/Data.zip\n",
            "   creating: Data/\n",
            "   creating: Data/train_data/\n",
            "   creating: Data/train_data/T0759-D1/\n",
            "  inflating: Data/train_data/T0759-D1/T0759TS011_4-D1  \n",
            "  inflating: Data/train_data/T0759-D1/T0759TS022_3-D1  \n",
            "  inflating: Data/train_data/T0759-D1/T0759TS022_1-D1  \n",
            "  inflating: Data/train_data/T0759-D1/T0759TS026_5-D1  \n",
            "  inflating: Data/train_data/T0759-D1/T0759TS026_2-D1  \n",
            "  inflating: Data/train_data/T0759-D1/T0759TS022_5-D1  \n",
            "  inflating: Data/train_data/T0759-D1/T0759TS014_5-D1  \n",
            "  inflating: Data/train_data/T0759-D1/T0759TS026_4-D1  \n",
            "  inflating: Data/train_data/T0759-D1/T0759TS022_4-D1  \n",
            "  inflating: Data/train_data/T0759-D1/T0759TS023_1-D1  \n",
            "  inflating: Data/train_data/T0759-D1/T0759TS014_3-D1  \n",
            "  inflating: Data/train_data/T0759-D1/T0759TS023_2-D1  \n",
            "  inflating: Data/train_data/T0759-D1/T0759TS014_2-D1  \n",
            "  inflating: Data/train_data/T0759-D1/T0759TS026_1-D1  \n",
            "  inflating: Data/train_data/T0759-D1/T0759TS022_2-D1  \n",
            "  inflating: Data/train_data/T0759-D1/T0759TS026_3-D1  \n",
            "  inflating: Data/train_data/T0759-D1/T0759TS023_3-D1  \n",
            "  inflating: Data/train_data/T0759-D1/T0759TS011_5-D1  \n",
            "  inflating: Data/train_data/T0759-D1/T0759TS014_4-D1  \n",
            "  inflating: Data/train_data/T0759-D1/T0759TS014_1-D1  \n",
            "   creating: Data/train_data/T0759-D2/\n",
            "  inflating: Data/train_data/T0759-D2/T0759TS492_4-D2  \n",
            "  inflating: Data/train_data/T0759-D2/T0759TS403_4-D2  \n",
            "  inflating: Data/train_data/T0759-D2/T0759TS403_2-D2  \n",
            "  inflating: Data/train_data/T0759-D2/T0759TS499_5-D2  \n",
            "  inflating: Data/train_data/T0759-D2/T0759TS499_3-D2  \n",
            "  inflating: Data/train_data/T0759-D2/T0759TS410_2-D2  \n",
            "  inflating: Data/train_data/T0759-D2/T0759TS499_1-D2  \n",
            "  inflating: Data/train_data/T0759-D2/T0759TS403_3-D2  \n",
            "  inflating: Data/train_data/T0759-D2/T0759TS492_1-D2  \n",
            "  inflating: Data/train_data/T0759-D2/T0759TS410_3-D2  \n",
            "  inflating: Data/train_data/T0759-D2/T0759TS403_5-D2  \n",
            "  inflating: Data/train_data/T0759-D2/T0759TS492_5-D2  \n",
            "  inflating: Data/train_data/T0759-D2/T0759TS410_1-D2  \n",
            "  inflating: Data/train_data/T0759-D2/T0759TS490_1-D2  \n",
            "  inflating: Data/train_data/T0759-D2/T0759TS492_2-D2  \n",
            "  inflating: Data/train_data/T0759-D2/T0759TS492_3-D2  \n",
            "  inflating: Data/train_data/T0759-D2/T0759TS499_2-D2  \n",
            "  inflating: Data/train_data/T0759-D2/T0759TS403_1-D2  \n",
            "  inflating: Data/train_data/T0759-D2/T0759TS499_4-D2  \n",
            "  inflating: Data/train_data/T0759-D2/T0759TS495_1-D2  \n",
            "   creating: Data/train_data/T0796-D1/\n",
            "  inflating: Data/train_data/T0796-D1/T0796TS420_5-D1  \n",
            "  inflating: Data/train_data/T0796-D1/T0796TS454_4-D1  \n",
            "  inflating: Data/train_data/T0796-D1/T0796TS436_2-D1  \n",
            "  inflating: Data/train_data/T0796-D1/T0796TS454_3-D1  \n",
            "  inflating: Data/train_data/T0796-D1/T0796TS436_1-D1  \n",
            "  inflating: Data/train_data/T0796-D1/T0796TS492_2-D1  \n",
            "  inflating: Data/train_data/T0796-D1/T0796TS479_3-D1  \n",
            "  inflating: Data/train_data/T0796-D1/T0796TS479_1-D1  \n",
            "  inflating: Data/train_data/T0796-D1/T0796TS420_4-D1  \n",
            "  inflating: Data/train_data/T0796-D1/T0796TS479_5-D1  \n",
            "  inflating: Data/train_data/T0796-D1/T0796TS492_4-D1  \n",
            "  inflating: Data/train_data/T0796-D1/T0796TS436_3-D1  \n",
            "  inflating: Data/train_data/T0796-D1/T0796TS492_3-D1  \n",
            "  inflating: Data/train_data/T0796-D1/T0796TS454_5-D1  \n",
            "  inflating: Data/train_data/T0796-D1/T0796TS420_3-D1  \n",
            "  inflating: Data/train_data/T0796-D1/T0796TS492_5-D1  \n",
            "  inflating: Data/train_data/T0796-D1/T0796TS479_2-D1  \n",
            "  inflating: Data/train_data/T0796-D1/T0796TS479_4-D1  \n",
            "  inflating: Data/train_data/T0796-D1/T0796TS436_4-D1  \n",
            "  inflating: Data/train_data/T0796-D1/T0796TS492_1-D1  \n",
            "   creating: Data/test_data/\n",
            "   creating: Data/test_data/T0794-D2/\n",
            "  inflating: Data/test_data/T0794-D2/T0794TS044_2-D2  \n",
            "  inflating: Data/test_data/T0794-D2/T0794TS042_5-D2  \n",
            "  inflating: Data/test_data/T0794-D2/T0794TS049_3-D2  \n",
            "  inflating: Data/test_data/T0794-D2/T0794TS044_1-D2  \n",
            "  inflating: Data/test_data/T0794-D2/T0794TS054_5-D2  \n",
            "  inflating: Data/test_data/T0794-D2/T0794TS054_1-D2  \n",
            "  inflating: Data/test_data/T0794-D2/T0794TS042_3-D2  \n",
            "  inflating: Data/test_data/T0794-D2/T0794TS044_5-D2  \n",
            "  inflating: Data/test_data/T0794-D2/T0794TS050_1-D2  \n",
            "  inflating: Data/test_data/T0794-D2/T0794TS044_3-D2  \n",
            "  inflating: Data/test_data/T0794-D2/T0794TS054_3-D2  \n",
            "  inflating: Data/test_data/T0794-D2/T0794TS042_4-D2  \n",
            "  inflating: Data/test_data/T0794-D2/T0794TS054_4-D2  \n",
            "  inflating: Data/test_data/T0794-D2/T0794TS042_2-D2  \n",
            "  inflating: Data/test_data/T0794-D2/T0794TS049_2-D2  \n",
            "  inflating: Data/test_data/T0794-D2/T0794TS044_4-D2  \n",
            "  inflating: Data/test_data/T0794-D2/T0794TS054_2-D2  \n",
            "  inflating: Data/test_data/T0794-D2/T0794TS049_1-D2  \n",
            "  inflating: Data/test_data/T0794-D2/T0794TS049_4-D2  \n",
            "  inflating: Data/test_data/T0794-D2/T0794TS049_5-D2  \n",
            "   creating: Data/test_data/T0795-D1/\n",
            "  inflating: Data/test_data/T0795-D1/T0795TS080_5-D1  \n",
            "  inflating: Data/test_data/T0795-D1/T0795TS034_1-D1  \n",
            "  inflating: Data/test_data/T0795-D1/T0795TS080_1-D1  \n",
            "  inflating: Data/test_data/T0795-D1/T0795TS032_4-D1  \n",
            "  inflating: Data/test_data/T0795-D1/T0795TS080_2-D1  \n",
            "  inflating: Data/test_data/T0795-D1/T0795TS110_2-D1  \n",
            "  inflating: Data/test_data/T0795-D1/T0795TS080_3-D1  \n",
            "  inflating: Data/test_data/T0795-D1/T0795TS073_5-D1  \n",
            "  inflating: Data/test_data/T0795-D1/T0795TS097_1-D1  \n",
            "  inflating: Data/test_data/T0795-D1/T0795TS034_2-D1  \n",
            "  inflating: Data/test_data/T0795-D1/T0795TS097_4-D1  \n",
            "  inflating: Data/test_data/T0795-D1/T0795TS097_2-D1  \n",
            "  inflating: Data/test_data/T0795-D1/T0795TS032_2-D1  \n",
            "  inflating: Data/test_data/T0795-D1/T0795TS032_3-D1  \n",
            "  inflating: Data/test_data/T0795-D1/T0795TS110_4-D1  \n",
            "  inflating: Data/test_data/T0795-D1/T0795TS097_3-D1  \n",
            "  inflating: Data/test_data/T0795-D1/T0795TS080_4-D1  \n",
            "  inflating: Data/test_data/T0795-D1/T0795TS032_1-D1  \n",
            "  inflating: Data/test_data/T0795-D1/T0795TS110_3-D1  \n",
            "  inflating: Data/test_data/T0795-D1/T0795TS073_4-D1  \n",
            "   creating: Data/train_label/\n",
            "  inflating: Data/train_label/T0759-D1.txt  \n",
            "  inflating: Data/train_label/T0759-D2.txt  \n",
            "  inflating: Data/train_label/T0794-D2.txt  \n",
            "  inflating: Data/train_label/T0795-D1.txt  \n",
            "  inflating: Data/train_label/T0796-D1.txt  \n",
            "   creating: Data/test_label/\n",
            "  inflating: Data/test_label/T0794-D2.txt  \n",
            "  inflating: Data/test_label/T0795-D1.txt  \n",
            "Collecting py3Dmol\n",
            "  Downloading py3Dmol-0.9.2-py2.py3-none-any.whl (6.2 kB)\n",
            "Installing collected packages: py3Dmol\n",
            "Successfully installed py3Dmol-0.9.2\n"
          ],
          "name": "stdout"
        }
      ]
    },
    {
      "cell_type": "code",
      "metadata": {
        "id": "imRUpRMYlMt8",
        "colab": {
          "base_uri": "https://localhost:8080/"
        },
        "outputId": "94ba4920-95ef-4182-fa18-3b65132c3f3f"
      },
      "source": [
        "import numpy as np\n",
        "import torch\n",
        "from torch.autograd import Variable\n",
        "import torch.nn.functional as F\n",
        "import torch.nn as nn\n",
        "import torch.nn.init as init\n",
        "from torch.utils.data import Dataset\n",
        "from torch.utils.data import sampler\n",
        "import glob\n",
        "import torch.optim as optim\n",
        "import pandas as pd\n",
        "from QA.data_import import get_dataloader,data1\n",
        "import matplotlib.pyplot as plt\n",
        "from QA.train import train\n",
        "from QA.test import test\n",
        "seed=3\n",
        "torch.manual_seed(seed)\n"
      ],
      "execution_count": 2,
      "outputs": [
        {
          "output_type": "execute_result",
          "data": {
            "text/plain": [
              "<torch._C.Generator at 0x7f166c04daf0>"
            ]
          },
          "metadata": {},
          "execution_count": 2
        }
      ]
    },
    {
      "cell_type": "code",
      "metadata": {
        "colab": {
          "base_uri": "https://localhost:8080/",
          "height": 651
        },
        "id": "oRVez8JZc3Ms",
        "outputId": "c0b81cca-5bf5-417b-bc0e-cc4403b0f94c"
      },
      "source": [
        "import py3Dmol\n",
        "#taken from https://william-dawson.github.io/using-py3dmol.html\n",
        "print(\"Target\")\n",
        "with open(\"QA/T0759-D1.pdb\") as ifile:\n",
        "    file_info_target = \"\".join([x for x in ifile])\n",
        "view = py3Dmol.view(width=400, height=300)\n",
        "view.addModelsAsFrames(file_info_target)\n",
        "view.setStyle({'model': -1}, {\"cartoon\": {'color': 'blue'}})\n",
        "view.zoomTo()\n",
        "view.show()\n",
        "print(\"Decoy\")\n",
        "with open(\"QA/T0759TS499_1-D1.pdb\") as ifile:\n",
        "    file_info_decoy = \"\".join([x for x in ifile])\n",
        "view = py3Dmol.view(width=400, height=300)\n",
        "view.addModelsAsFrames(file_info_decoy)\n",
        "view.setStyle({'model': -1}, {\"cartoon\": {'color': 'salmon'}})\n",
        "view.zoomTo()\n",
        "view.show()"
      ],
      "execution_count": 3,
      "outputs": [
        {
          "output_type": "stream",
          "text": [
            "Target\n"
          ],
          "name": "stdout"
        },
        {
          "output_type": "display_data",
          "data": {
            "application/3dmoljs_load.v0": "<div id=\"3dmolviewer_1629595510477731\"  style=\"position: relative; width: 400px; height: 300px\">\n        <p id=\"3dmolwarning_1629595510477731\" style=\"background-color:#ffcccc;color:black\">You appear to be running in JupyterLab (or JavaScript failed to load for some other reason).  You need to install the 3dmol extension: <br>\n        <tt>jupyter labextension install jupyterlab_3dmol</tt></p>\n        </div>\n<script>\n\nvar loadScriptAsync = function(uri){\n  return new Promise((resolve, reject) => {\n    var tag = document.createElement('script');\n    tag.src = uri;\n    tag.async = true;\n    tag.onload = () => {\n      resolve();\n    };\n  var firstScriptTag = document.getElementsByTagName('script')[0];\n  firstScriptTag.parentNode.insertBefore(tag, firstScriptTag);\n});\n};\n\nif(typeof $3Dmolpromise === 'undefined') {\n$3Dmolpromise = null;\n  $3Dmolpromise = loadScriptAsync('https://3dmol.org/build/3Dmol.js');\n}\n\nvar viewer_1629595510477731 = null;\nvar warn = document.getElementById(\"3dmolwarning_1629595510477731\");\nif(warn) {\n    warn.parentNode.removeChild(warn);\n}\n$3Dmolpromise.then(function() {\nviewer_1629595510477731 = $3Dmol.createViewer($(\"#3dmolviewer_1629595510477731\"),{backgroundColor:\"white\"});\nviewer_1629595510477731.zoomTo();\n\tviewer_1629595510477731.addModelsAsFrames(\"REMARK  T0759\\nREMARK Residues 18 and 87 changed: 18: P-T; 87: H-Q\\nREMARK   3   RESOLUTION RANGE HIGH (ANGSTROMS) : 2.640    \\nREMARK   3   FREE R VALUE                     : 0.2569 \\nCRYST1   68.237   68.237  192.587  90.00  90.00 120.00 P 31 2 1 \\nATOM    125  N   VAL    12       9.487  28.127  19.010  1.00 56.15      A    N\\nATOM    126  CA  VAL    12       9.109  29.408  18.432  1.00 58.00      A    C\\nATOM    127  CB  VAL    12       8.698  29.208  16.947  1.00 54.64      A    C\\nATOM    128  CG1 VAL    12       7.291  29.671  16.717  1.00 51.80      A    C\\nATOM    129  CG2 VAL    12       9.659  29.957  16.041  1.00 55.27      A    C\\nATOM    130  C   VAL    12       7.985  30.062  19.268  1.00 49.51      A    C\\nATOM    131  O   VAL    12       7.059  29.384  19.732  1.00 44.78      A    O\\nATOM    132  N   VAL    13       8.091  31.369  19.493  1.00 47.58      A    N\\nATOM    133  CA  VAL    13       7.089  32.106  20.273  1.00 53.58      A    C\\nATOM    134  CB  VAL    13       7.734  33.053  21.298  1.00 53.58      A    C\\nATOM    135  CG1 VAL    13       6.667  33.912  21.936  1.00 45.31      A    C\\nATOM    136  CG2 VAL    13       8.471  32.259  22.360  1.00 35.88      A    C\\nATOM    137  C   VAL    13       6.188  32.952  19.384  1.00 50.58      A    C\\nATOM    138  O   VAL    13       6.644  33.908  18.770  1.00 54.57      A    O\\nATOM    139  N   ILE    14       4.906  32.607  19.345  1.00 52.48      A    N\\nATOM    140  CA  ILE    14       3.936  33.314  18.519  1.00 60.33      A    C\\nATOM    141  CB  ILE    14       2.667  32.466  18.337  1.00 52.77      A    C\\nATOM    142  CG2 ILE    14       1.852  32.997  17.170  1.00 53.83      A    C\\nATOM    143  CG1 ILE    14       3.058  31.017  18.056  1.00 49.67      A    C\\nATOM    144  CD1 ILE    14       3.852  30.849  16.776  1.00 59.49      A    C\\nATOM    145  C   ILE    14       3.528  34.679  19.066  1.00 57.10      A    C\\nATOM    146  O   ILE    14       3.090  34.799  20.212  1.00 54.12      A    O\\nATOM    147  N   HIS    15       3.666  35.708  18.241  1.00 64.60      A    N\\nATOM    148  CA  HIS    15       3.293  37.047  18.666  1.00 82.02      A    C\\nATOM    149  CB  HIS    15       3.793  38.094  17.670  1.00 93.55      A    C\\nATOM    150  CG  HIS    15       3.874  39.472  18.245  1.00106.06      A    C\\nATOM    151  CD2 HIS    15       4.881  40.377  18.261  1.00111.93      A    C\\nATOM    152  ND1 HIS    15       2.836  40.042  18.951  1.00106.99      A    N\\nATOM    153  CE1 HIS    15       3.204  41.234  19.383  1.00108.65      A    C\\nATOM    154  NE2 HIS    15       4.441  41.462  18.979  1.00110.80      A    N\\nATOM    155  C   HIS    15       1.770  37.110  18.756  1.00 84.59      A    C\\nATOM    156  O   HIS    15       1.070  36.672  17.848  1.00 81.39      A    O\\nATOM    157  N   PRO    16       1.239  37.660  19.857  1.00 87.38      A    N\\nATOM    158  CD  PRO    16       1.989  38.252  20.976  1.00 70.86      A    C\\nATOM    159  CA  PRO    16      -0.207  37.782  20.083  1.00 89.67      A    C\\nATOM    160  CB  PRO    16      -0.290  38.479  21.434  1.00 72.99      A    C\\nATOM    161  CG  PRO    16       1.010  38.127  22.096  1.00 69.35      A    C\\nATOM    162  C   PRO    16      -0.953  38.568  19.014  1.00 94.22      A    C\\nATOM    163  O   PRO    16      -2.114  38.286  18.722  1.00 89.53      A    O\\nATOM    164  N   ASP    17      -0.274  39.552  18.434  1.00 95.07      A    N\\nATOM    165  CA  ASP    17      -0.877  40.405  17.425  1.00 95.72      A    C\\nATOM    166  CB  ASP    17      -0.499  41.862  17.715  1.00100.23      A    C\\nATOM    167  CG  ASP    17      -0.479  42.178  19.218  1.00106.99      A    C\\nATOM    168  OD1 ASP    17      -1.386  41.720  19.949  1.00111.59      A    O\\nATOM    169  OD2 ASP    17       0.439  42.896  19.672  1.00 99.99      A    O\\nATOM    170  C   ASP    17      -0.503  40.025  15.994  1.00109.85      A    C\\nATOM    171  O   ASP    17      -1.365  39.611  15.218  1.00119.32      A    O\\nATOM    172  N   PRO    18       0.772  40.149  15.639  1.00109.28      A    N\\nATOM    173  CA  PRO    18       1.192  39.810  14.283  1.00110.99      A    C\\nATOM    174  CB  PRO    18       2.604  40.349  13.982  1.00115.25      A    C\\nATOM    177  C   PRO    18       1.175  38.301  14.041  1.00115.60      A    C\\nATOM    178  O   PRO    18       1.389  37.846  12.916  1.00123.33      A    O\\nATOM    179  N   GLY    19       0.918  37.529  15.096  1.00108.04      A    N\\nATOM    180  CA  GLY    19       0.881  36.079  14.969  1.00 93.41      A    C\\nATOM    181  C   GLY    19       2.161  35.516  14.377  1.00 89.50      A    C\\nATOM    182  O   GLY    19       2.233  34.329  14.063  1.00 87.06      A    O\\nATOM    183  N   ARG    20       3.170  36.376  14.237  1.00 89.06      A    N\\nATOM    184  CA  ARG    20       4.460  36.005  13.665  1.00 86.77      A    C\\nATOM    185  CB  ARG    20       5.283  37.274  13.396  1.00 87.21      A    C\\nATOM    186  CG  ARG    20       6.265  37.137  12.247  1.00 99.19      A    C\\nATOM    187  CD  ARG    20       6.652  38.487  11.643  1.00102.78      A    C\\nATOM    188  NE  ARG    20       7.754  39.149  12.342  1.00 99.99      A    N\\nATOM    189  CZ  ARG    20       7.639  39.821  13.484  1.00105.49      A    C\\nATOM    190  NH1 ARG    20       6.460  39.932  14.079  1.00105.90      A    N\\nATOM    191  NH2 ARG    20       8.709  40.388  14.027  1.00110.47      A    N\\nATOM    192  C   ARG    20       5.229  35.061  14.588  1.00 74.50      A    C\\nATOM    193  O   ARG    20       5.072  35.122  15.813  1.00 65.43      A    O\\nATOM    194  N   GLU    21       6.034  34.173  13.995  1.00 57.08      A    N\\nATOM    195  CA  GLU    21       6.846  33.229  14.767  1.00 66.03      A    C\\nATOM    196  CB  GLU    21       7.211  31.992  13.935  1.00 66.42      A    C\\nATOM    197  CG  GLU    21       6.039  31.210  13.372  1.00 61.16      A    C\\nATOM    198  CD  GLU    21       6.446  29.827  12.879  1.00 81.70      A    C\\nATOM    199  OE1 GLU    21       7.477  29.729  12.179  1.00 89.16      A    O\\nATOM    200  OE2 GLU    21       5.736  28.841  13.187  1.00 88.29      A    O\\nATOM    201  C   GLU    21       8.136  33.920  15.191  1.00 67.86      A    C\\nATOM    202  O   GLU    21       8.898  34.394  14.347  1.00 76.78      A    O\\nATOM    203  N   LEU    22       8.379  33.976  16.495  1.00 53.68      A    N\\nATOM    204  CA  LEU    22       9.576  34.619  17.013  1.00 51.20      A    C\\nATOM    205  CB  LEU    22       9.203  35.691  18.034  1.00 56.27      A    C\\nATOM    206  CG  LEU    22       8.288  36.824  17.586  1.00 57.37      A    C\\nATOM    207  CD1 LEU    22       8.132  37.776  18.756  1.00 47.38      A    C\\nATOM    208  CD2 LEU    22       8.872  37.545  16.393  1.00 74.73      A    C\\nATOM    209  C   LEU    22      10.501  33.618  17.681  1.00 62.97      A    C\\nATOM    210  O   LEU    22      10.056  32.611  18.233  1.00 80.36      A    O\\nATOM    211  N   SER    23      11.796  33.889  17.622  1.00 64.81      A    N\\nATOM    212  CA  SER    23      12.756  33.011  18.262  1.00 65.88      A    C\\nATOM    213  CB  SER    23      14.141  33.159  17.616  1.00 62.41      A    C\\nATOM    214  OG  SER    23      14.704  34.444  17.850  1.00 56.93      A    O\\nATOM    215  C   SER    23      12.792  33.471  19.707  1.00 53.26      A    C\\nATOM    216  O   SER    23      12.567  34.652  19.998  1.00 43.10      A    O\\nATOM    217  N   PRO    24      13.061  32.546  20.636  1.00 57.75      A    N\\nATOM    218  CD  PRO    24      13.545  31.167  20.439  1.00 59.95      A    C\\nATOM    219  CA  PRO    24      13.110  32.935  22.049  1.00 58.03      A    C\\nATOM    220  CB  PRO    24      13.851  31.772  22.695  1.00 52.26      A    C\\nATOM    221  CG  PRO    24      13.443  30.593  21.832  1.00 53.27      A    C\\nATOM    222  C   PRO    24      13.871  34.257  22.178  1.00 60.50      A    C\\nATOM    223  O   PRO    24      13.514  35.137  22.958  1.00 54.61      A    O\\nATOM    224  N   GLU    25      14.911  34.392  21.372  1.00 59.04      A    N\\nATOM    225  CA  GLU    25      15.734  35.581  21.363  1.00 48.05      A    C\\nATOM    226  CB  GLU    25      16.866  35.384  20.363  1.00 68.59      A    C\\nATOM    227  CG  GLU    25      17.944  36.417  20.452  1.00 70.82      A    C\\nATOM    228  CD  GLU    25      18.968  36.227  19.379  1.00 77.71      A    C\\nATOM    229  OE1 GLU    25      19.486  35.096  19.247  1.00 85.15      A    O\\nATOM    230  OE2 GLU    25      19.247  37.209  18.668  1.00 67.68      A    O\\nATOM    231  C   GLU    25      14.930  36.834  21.000  1.00 52.87      A    C\\nATOM    232  O   GLU    25      14.946  37.830  21.726  1.00 59.03      A    O\\nATOM    233  N   GLU    26      14.229  36.776  19.871  1.00 52.89      A    N\\nATOM    234  CA  GLU    26      13.419  37.900  19.389  1.00 54.22      A    C\\nATOM    235  CB  GLU    26      12.898  37.611  17.980  1.00 72.39      A    C\\nATOM    236  CG  GLU    26      13.992  37.354  16.963  1.00 81.12      A    C\\nATOM    237  CD  GLU    26      13.457  36.869  15.640  1.00 78.62      A    C\\nATOM    238  OE1 GLU    26      12.684  35.894  15.644  1.00 74.49      A    O\\nATOM    239  OE2 GLU    26      13.815  37.457  14.597  1.00 77.06      A    O\\nATOM    240  C   GLU    26      12.235  38.211  20.293  1.00 56.95      A    C\\nATOM    241  O   GLU    26      11.840  39.374  20.419  1.00 53.61      A    O\\nATOM    242  N   ALA    27      11.661  37.170  20.894  1.00 61.22      A    N\\nATOM    243  CA  ALA    27      10.525  37.329  21.794  1.00 55.74      A    C\\nATOM    244  CB  ALA    27      10.060  35.971  22.290  1.00 48.45      A    C\\nATOM    245  C   ALA    27      10.992  38.176  22.961  1.00 65.31      A    C\\nATOM    246  O   ALA    27      10.306  39.111  23.385  1.00 73.34      A    O\\nATOM    247  N   HIS    28      12.176  37.839  23.468  1.00 51.16      A    N\\nATOM    248  CA  HIS    28      12.768  38.565  24.584  1.00 50.41      A    C\\nATOM    249  CB  HIS    28      14.094  37.919  25.023  1.00 60.56      A    C\\nATOM    250  CG  HIS    28      14.830  38.708  26.064  1.00 53.29      A    C\\nATOM    251  CD2 HIS    28      14.736  38.704  27.412  1.00 50.56      A    C\\nATOM    252  ND1 HIS    28      15.720  39.712  25.745  1.00 60.51      A    N\\nATOM    253  CE1 HIS    28      16.139  40.294  26.853  1.00 57.63      A    C\\nATOM    254  NE2 HIS    28      15.558  39.704  27.879  1.00 55.02      A    N\\nATOM    255  C   HIS    28      12.997  40.036  24.253  1.00 38.25      A    C\\nATOM    256  O   HIS    28      12.858  40.893  25.119  1.00 57.30      A    O\\nATOM    257  N   ARG    29      13.360  40.338  23.014  1.00 49.13      A    N\\nATOM    258  CA  ARG    29      13.573  41.736  22.633  1.00 59.01      A    C\\nATOM    259  CB  ARG    29      14.440  41.835  21.371  1.00 56.94      A    C\\nATOM    260  CG  ARG    29      15.889  41.444  21.559  1.00 50.39      A    C\\nATOM    261  CD  ARG    29      16.748  42.140  20.518  1.00 47.53      A    C\\nATOM    262  NE  ARG    29      16.735  41.500  19.205  1.00 56.37      A    N\\nATOM    263  CZ  ARG    29      17.433  40.407  18.914  1.00 69.93      A    C\\nATOM    264  NH1 ARG    29      18.190  39.832  19.846  1.00 74.17      A    N\\nATOM    265  NH2 ARG    29      17.399  39.903  17.687  1.00 65.38      A    N\\nATOM    266  C   ARG    29      12.236  42.447  22.387  1.00 55.55      A    C\\nATOM    267  O   ARG    29      12.155  43.679  22.392  1.00 52.25      A    O\\nATOM    268  N   ALA    30      11.192  41.657  22.170  1.00 44.90      A    N\\nATOM    269  CA  ALA    30       9.871  42.202  21.921  1.00 55.14      A    C\\nATOM    270  CB  ALA    30       9.142  41.358  20.889  1.00 44.95      A    C\\nATOM    271  C   ALA    30       9.109  42.208  23.229  1.00 70.64      A    C\\nATOM    272  O   ALA    30       7.905  42.447  23.259  1.00 59.85      A    O\\nATOM    273  N   GLY    31       9.826  41.927  24.310  1.00 71.39      A    N\\nATOM    274  CA  GLY    31       9.224  41.917  25.631  1.00 59.65      A    C\\nATOM    275  C   GLY    31       8.128  40.893  25.835  1.00 62.33      A    C\\nATOM    276  O   GLY    31       7.367  40.985  26.793  1.00 67.95      A    O\\nATOM    277  N   LEU    32       8.034  39.909  24.954  1.00 66.59      A    N\\nATOM    278  CA  LEU    32       6.993  38.908  25.117  1.00 66.55      A    C\\nATOM    279  CB  LEU    32       6.725  38.195  23.794  1.00 64.30      A    C\\nATOM    280  CG  LEU    32       6.144  39.091  22.695  1.00 70.54      A    C\\nATOM    281  CD1 LEU    32       5.857  38.246  21.463  1.00 68.59      A    C\\nATOM    282  CD2 LEU    32       4.865  39.760  23.184  1.00 78.71      A    C\\nATOM    283  C   LEU    32       7.340  37.893  26.193  1.00 76.25      A    C\\nATOM    284  O   LEU    32       6.477  37.123  26.626  1.00 87.52      A    O\\nATOM    285  N   ILE    33       8.603  37.890  26.617  1.00 60.74      A    N\\nATOM    286  CA  ILE    33       9.076  36.972  27.657  1.00 53.54      A    C\\nATOM    287  CB  ILE    33       9.565  35.633  27.081  1.00 49.51      A    C\\nATOM    288  CG2 ILE    33       8.437  34.929  26.346  1.00 45.31      A    C\\nATOM    289  CG1 ILE    33      10.766  35.881  26.167  1.00 59.18      A    C\\nATOM    290  CD1 ILE    33      11.432  34.609  25.709  1.00 71.53      A    C\\nATOM    291  C   ILE    33      10.241  37.575  28.432  1.00 77.63      A    C\\nATOM    292  O   ILE    33      11.056  38.318  27.876  1.00 91.26      A    O\\nATOM    293  N   ASP    34      10.313  37.237  29.716  1.00 82.09      A    N\\nATOM    294  CA  ASP    34      11.359  37.738  30.600  1.00 83.55      A    C\\nATOM    295  CB  ASP    34      10.872  37.762  32.047  1.00 95.19      A    C\\nATOM    296  CG  ASP    34      10.618  36.371  32.600  1.00103.58      A    C\\nATOM    297  OD1 ASP    34       9.724  35.668  32.075  1.00113.52      A    O\\nATOM    298  OD2 ASP    34      11.318  35.985  33.561  1.00 90.59      A    O\\nATOM    299  C   ASP    34      12.602  36.882  30.520  1.00 69.67      A    C\\nATOM    300  O   ASP    34      12.539  35.702  30.169  1.00 67.37      A    O\\nATOM    301  N   TRP    35      13.729  37.480  30.877  1.00 56.59      A    N\\nATOM    302  CA  TRP    35      15.013  36.799  30.838  1.00 55.04      A    C\\nATOM    303  CB  TRP    35      16.037  37.626  31.608  1.00 49.63      A    C\\nATOM    304  CG  TRP    35      17.354  36.984  31.630  1.00 66.17      A    C\\nATOM    305  CD2 TRP    35      18.317  36.985  30.574  1.00 77.25      A    C\\nATOM    306  CE2 TRP    35      19.405  36.190  31.002  1.00 78.80      A    C\\nATOM    307  CE3 TRP    35      18.366  37.579  29.304  1.00 75.19      A    C\\nATOM    308  CD1 TRP    35      17.874  36.214  32.626  1.00 64.93      A    C\\nATOM    309  NE1 TRP    35      19.109  35.730  32.258  1.00 73.17      A    N\\nATOM    310  CZ2 TRP    35      20.533  35.975  30.201  1.00 74.80      A    C\\nATOM    311  CZ3 TRP    35      19.486  37.363  28.510  1.00 74.88      A    C\\nATOM    312  CH2 TRP    35      20.554  36.569  28.964  1.00 79.05      A    C\\nATOM    313  C   TRP    35      15.078  35.325  31.298  1.00 67.64      A    C\\nATOM    314  O   TRP    35      15.680  34.491  30.622  1.00 68.66      A    O\\nATOM    315  N   ASN    36      14.464  34.990  32.427  1.00 69.30      A    N\\nATOM    316  CA  ASN    36      14.518  33.614  32.916  1.00 74.77      A    C\\nATOM    317  CB  ASN    36      14.100  33.554  34.386  1.00 91.90      A    C\\nATOM    318  CG  ASN    36      14.952  34.446  35.279  1.00 90.24      A    C\\nATOM    319  OD1 ASN    36      16.180  34.341  35.306  1.00 63.49      A    O\\nATOM    320  ND2 ASN    36      14.294  35.331  36.021  1.00101.06      A    N\\nATOM    321  C   ASN    36      13.692  32.614  32.113  1.00 79.57      A    C\\nATOM    322  O   ASN    36      13.970  31.415  32.143  1.00 89.75      A    O\\nATOM    323  N   MET    37      12.666  33.090  31.420  1.00 78.93      A    N\\nATOM    324  CA  MET    37      11.841  32.205  30.602  1.00 79.11      A    C\\nATOM    325  CB  MET    37      10.504  32.875  30.269  1.00 75.36      A    C\\nATOM    326  CG  MET    37       9.636  32.090  29.295  1.00 84.61      A    C\\nATOM    327  SD  MET    37       8.896  30.450  30.014  0.48115.19      A   SE\\nATOM    328  CE  MET    37       7.121  30.534  29.236  1.00 84.90      A    C\\nATOM    329  C   MET    37      12.644  31.989  29.326  1.00 71.27      A    C\\nATOM    330  O   MET    37      12.574  30.938  28.681  1.00 76.23      A    O\\nATOM    331  N   PHE    38      13.414  33.016  28.982  1.00 52.81      A    N\\nATOM    332  CA  PHE    38      14.266  33.006  27.801  1.00 68.50      A    C\\nATOM    333  CB  PHE    38      14.910  34.385  27.635  1.00 75.73      A    C\\nATOM    334  CG  PHE    38      15.875  34.486  26.491  1.00 75.67      A    C\\nATOM    335  CD1 PHE    38      15.827  33.594  25.424  1.00 65.07      A    C\\nATOM    336  CD2 PHE    38      16.817  35.508  26.468  1.00 86.63      A    C\\nATOM    337  CE1 PHE    38      16.698  33.725  24.350  1.00 64.94      A    C\\nATOM    338  CE2 PHE    38      17.691  35.650  25.402  1.00 86.28      A    C\\nATOM    339  CZ  PHE    38      17.633  34.753  24.337  1.00 76.46      A    C\\nATOM    340  C   PHE    38      15.314  31.918  27.984  1.00 65.92      A    C\\nATOM    341  O   PHE    38      15.486  31.065  27.114  1.00 53.00      A    O\\nATOM    342  N   VAL    39      16.002  31.954  29.123  1.00 64.42      A    N\\nATOM    343  CA  VAL    39      17.008  30.956  29.463  1.00 58.21      A    C\\nATOM    344  CB  VAL    39      17.584  31.221  30.865  1.00 65.41      A    C\\nATOM    345  CG1 VAL    39      18.222  29.970  31.406  1.00 55.01      A    C\\nATOM    346  CG2 VAL    39      18.598  32.345  30.811  1.00 34.80      A    C\\nATOM    347  C   VAL    39      16.331  29.588  29.471  1.00 55.35      A    C\\nATOM    348  O   VAL    39      16.766  28.650  28.790  1.00 54.66      A    O\\nATOM    349  N   LYS    40      15.266  29.482  30.256  1.00 50.38      A    N\\nATOM    350  CA  LYS    40      14.523  28.238  30.349  1.00 60.53      A    C\\nATOM    351  CB  LYS    40      13.184  28.460  31.054  1.00 60.30      A    C\\nATOM    352  CG  LYS    40      12.200  27.305  30.887  1.00 74.65      A    C\\nATOM    353  CD  LYS    40      12.197  26.374  32.095  1.00100.69      A    C\\nATOM    354  CE  LYS    40      11.381  25.107  31.825  1.00109.07      A    C\\nATOM    355  NZ  LYS    40      12.053  24.201  30.842  1.00103.37      A    N\\nATOM    356  C   LYS    40      14.262  27.694  28.956  1.00 64.58      A    C\\nATOM    357  O   LYS    40      14.578  26.543  28.666  1.00 74.47      A    O\\nATOM    358  N   LEU    41      13.681  28.527  28.096  1.00 54.80      A    N\\nATOM    359  CA  LEU    41      13.360  28.112  26.731  1.00 63.98      A    C\\nATOM    360  CB  LEU    41      12.726  29.264  25.952  1.00 60.21      A    C\\nATOM    361  CG  LEU    41      11.234  29.481  26.192  1.00 55.95      A    C\\nATOM    362  CD1 LEU    41      10.752  30.611  25.320  1.00 60.23      A    C\\nATOM    363  CD2 LEU    41      10.465  28.216  25.870  1.00 57.93      A    C\\nATOM    364  C   LEU    41      14.556  27.575  25.959  1.00 56.34      A    C\\nATOM    365  O   LEU    41      14.457  26.529  25.316  1.00 50.43      A    O\\nATOM    366  N   ARG    42      15.669  28.308  26.021  1.00 51.50      A    N\\nATOM    367  CA  ARG    42      16.918  27.940  25.360  1.00 52.08      A    C\\nATOM    368  CB  ARG    42      18.001  28.967  25.681  1.00 54.00      A    C\\nATOM    369  CG  ARG    42      17.867  30.261  24.938  1.00 71.48      A    C\\nATOM    370  CD  ARG    42      18.224  30.078  23.487  1.00 88.40      A    C\\nATOM    371  NE  ARG    42      19.659  29.911  23.293  1.00 97.87      A    N\\nATOM    372  CZ  ARG    42      20.197  29.417  22.183  1.00 95.33      A    C\\nATOM    373  NH1 ARG    42      19.415  29.042  21.178  1.00 71.44      A    N\\nATOM    374  NH2 ARG    42      21.511  29.299  22.074  1.00102.14      A    N\\nATOM    375  C   ARG    42      17.414  26.559  25.794  1.00 70.18      A    C\\nATOM    376  O   ARG    42      17.739  25.715  24.951  1.00 75.35      A    O\\nATOM    377  N   SER    43      17.474  26.343  27.109  1.00 66.37      A    N\\nATOM    378  CA  SER    43      17.923  25.078  27.683  1.00 66.85      A    C\\nATOM    379  CB  SER    43      17.698  25.078  29.191  1.00 67.58      A    C\\nATOM    380  OG  SER    43      16.318  24.917  29.497  1.00 68.31      A    O\\nATOM    381  C   SER    43      17.173  23.889  27.087  1.00 80.39      A    C\\nATOM    382  O   SER    43      17.585  22.736  27.246  1.00 95.92      A    O\\nATOM    383  N   GLN    44      16.061  24.177  26.420  1.00 68.55      A    N\\nATOM    384  CA  GLN    44      15.235  23.149  25.799  1.00 73.56      A    C\\nATOM    385  CB  GLN    44      13.766  23.521  25.926  1.00 81.00      A    C\\nATOM    386  CG  GLN    44      13.070  22.895  27.100  1.00 87.45      A    C\\nATOM    387  CD  GLN    44      11.786  23.613  27.428  1.00 87.42      A    C\\nATOM    388  OE1 GLN    44      11.803  24.690  28.027  1.00 79.56      A    O\\nATOM    389  NE2 GLN    44      10.663  23.037  27.017  1.00 84.29      A    N\\nATOM    390  C   GLN    44      15.559  22.938  24.329  1.00 67.59      A    C\\nATOM    391  O   GLN    44      15.002  22.047  23.686  1.00 64.05      A    O\\nATOM    392  N   GLU    45      16.438  23.774  23.791  1.00 61.68      A    N\\nATOM    393  CA  GLU    45      16.825  23.657  22.393  1.00 56.50      A    C\\nATOM    394  CB  GLU    45      16.985  25.052  21.750  1.00 48.78      A    C\\nATOM    395  CG  GLU    45      15.684  25.873  21.671  1.00 69.59      A    C\\nATOM    396  CD  GLU    45      15.790  27.144  20.809  1.00 93.60      A    C\\nATOM    397  OE1 GLU    45      16.589  28.050  21.143  1.00 99.27      A    O\\nATOM    398  OE2 GLU    45      15.062  27.241  19.795  1.00 92.46      A    O\\nATOM    399  C   GLU    45      18.142  22.894  22.310  1.00 58.19      A    C\\nATOM    400  O   GLU    45      18.955  22.929  23.234  1.00 68.46      A    O\\nTER\\nEND\\n\");\n\tviewer_1629595510477731.setStyle({\"model\": -1},{\"cartoon\": {\"color\": \"blue\"}});\n\tviewer_1629595510477731.zoomTo();\nviewer_1629595510477731.render();\n});\n</script>",
            "text/html": [
              "<div id=\"3dmolviewer_1629595510477731\"  style=\"position: relative; width: 400px; height: 300px\">\n",
              "        <p id=\"3dmolwarning_1629595510477731\" style=\"background-color:#ffcccc;color:black\">You appear to be running in JupyterLab (or JavaScript failed to load for some other reason).  You need to install the 3dmol extension: <br>\n",
              "        <tt>jupyter labextension install jupyterlab_3dmol</tt></p>\n",
              "        </div>\n",
              "<script>\n",
              "\n",
              "var loadScriptAsync = function(uri){\n",
              "  return new Promise((resolve, reject) => {\n",
              "    var tag = document.createElement('script');\n",
              "    tag.src = uri;\n",
              "    tag.async = true;\n",
              "    tag.onload = () => {\n",
              "      resolve();\n",
              "    };\n",
              "  var firstScriptTag = document.getElementsByTagName('script')[0];\n",
              "  firstScriptTag.parentNode.insertBefore(tag, firstScriptTag);\n",
              "});\n",
              "};\n",
              "\n",
              "if(typeof $3Dmolpromise === 'undefined') {\n",
              "$3Dmolpromise = null;\n",
              "  $3Dmolpromise = loadScriptAsync('https://3dmol.org/build/3Dmol.js');\n",
              "}\n",
              "\n",
              "var viewer_1629595510477731 = null;\n",
              "var warn = document.getElementById(\"3dmolwarning_1629595510477731\");\n",
              "if(warn) {\n",
              "    warn.parentNode.removeChild(warn);\n",
              "}\n",
              "$3Dmolpromise.then(function() {\n",
              "viewer_1629595510477731 = $3Dmol.createViewer($(\"#3dmolviewer_1629595510477731\"),{backgroundColor:\"white\"});\n",
              "viewer_1629595510477731.zoomTo();\n",
              "\tviewer_1629595510477731.addModelsAsFrames(\"REMARK  T0759\\nREMARK Residues 18 and 87 changed: 18: P-T; 87: H-Q\\nREMARK   3   RESOLUTION RANGE HIGH (ANGSTROMS) : 2.640    \\nREMARK   3   FREE R VALUE                     : 0.2569 \\nCRYST1   68.237   68.237  192.587  90.00  90.00 120.00 P 31 2 1 \\nATOM    125  N   VAL    12       9.487  28.127  19.010  1.00 56.15      A    N\\nATOM    126  CA  VAL    12       9.109  29.408  18.432  1.00 58.00      A    C\\nATOM    127  CB  VAL    12       8.698  29.208  16.947  1.00 54.64      A    C\\nATOM    128  CG1 VAL    12       7.291  29.671  16.717  1.00 51.80      A    C\\nATOM    129  CG2 VAL    12       9.659  29.957  16.041  1.00 55.27      A    C\\nATOM    130  C   VAL    12       7.985  30.062  19.268  1.00 49.51      A    C\\nATOM    131  O   VAL    12       7.059  29.384  19.732  1.00 44.78      A    O\\nATOM    132  N   VAL    13       8.091  31.369  19.493  1.00 47.58      A    N\\nATOM    133  CA  VAL    13       7.089  32.106  20.273  1.00 53.58      A    C\\nATOM    134  CB  VAL    13       7.734  33.053  21.298  1.00 53.58      A    C\\nATOM    135  CG1 VAL    13       6.667  33.912  21.936  1.00 45.31      A    C\\nATOM    136  CG2 VAL    13       8.471  32.259  22.360  1.00 35.88      A    C\\nATOM    137  C   VAL    13       6.188  32.952  19.384  1.00 50.58      A    C\\nATOM    138  O   VAL    13       6.644  33.908  18.770  1.00 54.57      A    O\\nATOM    139  N   ILE    14       4.906  32.607  19.345  1.00 52.48      A    N\\nATOM    140  CA  ILE    14       3.936  33.314  18.519  1.00 60.33      A    C\\nATOM    141  CB  ILE    14       2.667  32.466  18.337  1.00 52.77      A    C\\nATOM    142  CG2 ILE    14       1.852  32.997  17.170  1.00 53.83      A    C\\nATOM    143  CG1 ILE    14       3.058  31.017  18.056  1.00 49.67      A    C\\nATOM    144  CD1 ILE    14       3.852  30.849  16.776  1.00 59.49      A    C\\nATOM    145  C   ILE    14       3.528  34.679  19.066  1.00 57.10      A    C\\nATOM    146  O   ILE    14       3.090  34.799  20.212  1.00 54.12      A    O\\nATOM    147  N   HIS    15       3.666  35.708  18.241  1.00 64.60      A    N\\nATOM    148  CA  HIS    15       3.293  37.047  18.666  1.00 82.02      A    C\\nATOM    149  CB  HIS    15       3.793  38.094  17.670  1.00 93.55      A    C\\nATOM    150  CG  HIS    15       3.874  39.472  18.245  1.00106.06      A    C\\nATOM    151  CD2 HIS    15       4.881  40.377  18.261  1.00111.93      A    C\\nATOM    152  ND1 HIS    15       2.836  40.042  18.951  1.00106.99      A    N\\nATOM    153  CE1 HIS    15       3.204  41.234  19.383  1.00108.65      A    C\\nATOM    154  NE2 HIS    15       4.441  41.462  18.979  1.00110.80      A    N\\nATOM    155  C   HIS    15       1.770  37.110  18.756  1.00 84.59      A    C\\nATOM    156  O   HIS    15       1.070  36.672  17.848  1.00 81.39      A    O\\nATOM    157  N   PRO    16       1.239  37.660  19.857  1.00 87.38      A    N\\nATOM    158  CD  PRO    16       1.989  38.252  20.976  1.00 70.86      A    C\\nATOM    159  CA  PRO    16      -0.207  37.782  20.083  1.00 89.67      A    C\\nATOM    160  CB  PRO    16      -0.290  38.479  21.434  1.00 72.99      A    C\\nATOM    161  CG  PRO    16       1.010  38.127  22.096  1.00 69.35      A    C\\nATOM    162  C   PRO    16      -0.953  38.568  19.014  1.00 94.22      A    C\\nATOM    163  O   PRO    16      -2.114  38.286  18.722  1.00 89.53      A    O\\nATOM    164  N   ASP    17      -0.274  39.552  18.434  1.00 95.07      A    N\\nATOM    165  CA  ASP    17      -0.877  40.405  17.425  1.00 95.72      A    C\\nATOM    166  CB  ASP    17      -0.499  41.862  17.715  1.00100.23      A    C\\nATOM    167  CG  ASP    17      -0.479  42.178  19.218  1.00106.99      A    C\\nATOM    168  OD1 ASP    17      -1.386  41.720  19.949  1.00111.59      A    O\\nATOM    169  OD2 ASP    17       0.439  42.896  19.672  1.00 99.99      A    O\\nATOM    170  C   ASP    17      -0.503  40.025  15.994  1.00109.85      A    C\\nATOM    171  O   ASP    17      -1.365  39.611  15.218  1.00119.32      A    O\\nATOM    172  N   PRO    18       0.772  40.149  15.639  1.00109.28      A    N\\nATOM    173  CA  PRO    18       1.192  39.810  14.283  1.00110.99      A    C\\nATOM    174  CB  PRO    18       2.604  40.349  13.982  1.00115.25      A    C\\nATOM    177  C   PRO    18       1.175  38.301  14.041  1.00115.60      A    C\\nATOM    178  O   PRO    18       1.389  37.846  12.916  1.00123.33      A    O\\nATOM    179  N   GLY    19       0.918  37.529  15.096  1.00108.04      A    N\\nATOM    180  CA  GLY    19       0.881  36.079  14.969  1.00 93.41      A    C\\nATOM    181  C   GLY    19       2.161  35.516  14.377  1.00 89.50      A    C\\nATOM    182  O   GLY    19       2.233  34.329  14.063  1.00 87.06      A    O\\nATOM    183  N   ARG    20       3.170  36.376  14.237  1.00 89.06      A    N\\nATOM    184  CA  ARG    20       4.460  36.005  13.665  1.00 86.77      A    C\\nATOM    185  CB  ARG    20       5.283  37.274  13.396  1.00 87.21      A    C\\nATOM    186  CG  ARG    20       6.265  37.137  12.247  1.00 99.19      A    C\\nATOM    187  CD  ARG    20       6.652  38.487  11.643  1.00102.78      A    C\\nATOM    188  NE  ARG    20       7.754  39.149  12.342  1.00 99.99      A    N\\nATOM    189  CZ  ARG    20       7.639  39.821  13.484  1.00105.49      A    C\\nATOM    190  NH1 ARG    20       6.460  39.932  14.079  1.00105.90      A    N\\nATOM    191  NH2 ARG    20       8.709  40.388  14.027  1.00110.47      A    N\\nATOM    192  C   ARG    20       5.229  35.061  14.588  1.00 74.50      A    C\\nATOM    193  O   ARG    20       5.072  35.122  15.813  1.00 65.43      A    O\\nATOM    194  N   GLU    21       6.034  34.173  13.995  1.00 57.08      A    N\\nATOM    195  CA  GLU    21       6.846  33.229  14.767  1.00 66.03      A    C\\nATOM    196  CB  GLU    21       7.211  31.992  13.935  1.00 66.42      A    C\\nATOM    197  CG  GLU    21       6.039  31.210  13.372  1.00 61.16      A    C\\nATOM    198  CD  GLU    21       6.446  29.827  12.879  1.00 81.70      A    C\\nATOM    199  OE1 GLU    21       7.477  29.729  12.179  1.00 89.16      A    O\\nATOM    200  OE2 GLU    21       5.736  28.841  13.187  1.00 88.29      A    O\\nATOM    201  C   GLU    21       8.136  33.920  15.191  1.00 67.86      A    C\\nATOM    202  O   GLU    21       8.898  34.394  14.347  1.00 76.78      A    O\\nATOM    203  N   LEU    22       8.379  33.976  16.495  1.00 53.68      A    N\\nATOM    204  CA  LEU    22       9.576  34.619  17.013  1.00 51.20      A    C\\nATOM    205  CB  LEU    22       9.203  35.691  18.034  1.00 56.27      A    C\\nATOM    206  CG  LEU    22       8.288  36.824  17.586  1.00 57.37      A    C\\nATOM    207  CD1 LEU    22       8.132  37.776  18.756  1.00 47.38      A    C\\nATOM    208  CD2 LEU    22       8.872  37.545  16.393  1.00 74.73      A    C\\nATOM    209  C   LEU    22      10.501  33.618  17.681  1.00 62.97      A    C\\nATOM    210  O   LEU    22      10.056  32.611  18.233  1.00 80.36      A    O\\nATOM    211  N   SER    23      11.796  33.889  17.622  1.00 64.81      A    N\\nATOM    212  CA  SER    23      12.756  33.011  18.262  1.00 65.88      A    C\\nATOM    213  CB  SER    23      14.141  33.159  17.616  1.00 62.41      A    C\\nATOM    214  OG  SER    23      14.704  34.444  17.850  1.00 56.93      A    O\\nATOM    215  C   SER    23      12.792  33.471  19.707  1.00 53.26      A    C\\nATOM    216  O   SER    23      12.567  34.652  19.998  1.00 43.10      A    O\\nATOM    217  N   PRO    24      13.061  32.546  20.636  1.00 57.75      A    N\\nATOM    218  CD  PRO    24      13.545  31.167  20.439  1.00 59.95      A    C\\nATOM    219  CA  PRO    24      13.110  32.935  22.049  1.00 58.03      A    C\\nATOM    220  CB  PRO    24      13.851  31.772  22.695  1.00 52.26      A    C\\nATOM    221  CG  PRO    24      13.443  30.593  21.832  1.00 53.27      A    C\\nATOM    222  C   PRO    24      13.871  34.257  22.178  1.00 60.50      A    C\\nATOM    223  O   PRO    24      13.514  35.137  22.958  1.00 54.61      A    O\\nATOM    224  N   GLU    25      14.911  34.392  21.372  1.00 59.04      A    N\\nATOM    225  CA  GLU    25      15.734  35.581  21.363  1.00 48.05      A    C\\nATOM    226  CB  GLU    25      16.866  35.384  20.363  1.00 68.59      A    C\\nATOM    227  CG  GLU    25      17.944  36.417  20.452  1.00 70.82      A    C\\nATOM    228  CD  GLU    25      18.968  36.227  19.379  1.00 77.71      A    C\\nATOM    229  OE1 GLU    25      19.486  35.096  19.247  1.00 85.15      A    O\\nATOM    230  OE2 GLU    25      19.247  37.209  18.668  1.00 67.68      A    O\\nATOM    231  C   GLU    25      14.930  36.834  21.000  1.00 52.87      A    C\\nATOM    232  O   GLU    25      14.946  37.830  21.726  1.00 59.03      A    O\\nATOM    233  N   GLU    26      14.229  36.776  19.871  1.00 52.89      A    N\\nATOM    234  CA  GLU    26      13.419  37.900  19.389  1.00 54.22      A    C\\nATOM    235  CB  GLU    26      12.898  37.611  17.980  1.00 72.39      A    C\\nATOM    236  CG  GLU    26      13.992  37.354  16.963  1.00 81.12      A    C\\nATOM    237  CD  GLU    26      13.457  36.869  15.640  1.00 78.62      A    C\\nATOM    238  OE1 GLU    26      12.684  35.894  15.644  1.00 74.49      A    O\\nATOM    239  OE2 GLU    26      13.815  37.457  14.597  1.00 77.06      A    O\\nATOM    240  C   GLU    26      12.235  38.211  20.293  1.00 56.95      A    C\\nATOM    241  O   GLU    26      11.840  39.374  20.419  1.00 53.61      A    O\\nATOM    242  N   ALA    27      11.661  37.170  20.894  1.00 61.22      A    N\\nATOM    243  CA  ALA    27      10.525  37.329  21.794  1.00 55.74      A    C\\nATOM    244  CB  ALA    27      10.060  35.971  22.290  1.00 48.45      A    C\\nATOM    245  C   ALA    27      10.992  38.176  22.961  1.00 65.31      A    C\\nATOM    246  O   ALA    27      10.306  39.111  23.385  1.00 73.34      A    O\\nATOM    247  N   HIS    28      12.176  37.839  23.468  1.00 51.16      A    N\\nATOM    248  CA  HIS    28      12.768  38.565  24.584  1.00 50.41      A    C\\nATOM    249  CB  HIS    28      14.094  37.919  25.023  1.00 60.56      A    C\\nATOM    250  CG  HIS    28      14.830  38.708  26.064  1.00 53.29      A    C\\nATOM    251  CD2 HIS    28      14.736  38.704  27.412  1.00 50.56      A    C\\nATOM    252  ND1 HIS    28      15.720  39.712  25.745  1.00 60.51      A    N\\nATOM    253  CE1 HIS    28      16.139  40.294  26.853  1.00 57.63      A    C\\nATOM    254  NE2 HIS    28      15.558  39.704  27.879  1.00 55.02      A    N\\nATOM    255  C   HIS    28      12.997  40.036  24.253  1.00 38.25      A    C\\nATOM    256  O   HIS    28      12.858  40.893  25.119  1.00 57.30      A    O\\nATOM    257  N   ARG    29      13.360  40.338  23.014  1.00 49.13      A    N\\nATOM    258  CA  ARG    29      13.573  41.736  22.633  1.00 59.01      A    C\\nATOM    259  CB  ARG    29      14.440  41.835  21.371  1.00 56.94      A    C\\nATOM    260  CG  ARG    29      15.889  41.444  21.559  1.00 50.39      A    C\\nATOM    261  CD  ARG    29      16.748  42.140  20.518  1.00 47.53      A    C\\nATOM    262  NE  ARG    29      16.735  41.500  19.205  1.00 56.37      A    N\\nATOM    263  CZ  ARG    29      17.433  40.407  18.914  1.00 69.93      A    C\\nATOM    264  NH1 ARG    29      18.190  39.832  19.846  1.00 74.17      A    N\\nATOM    265  NH2 ARG    29      17.399  39.903  17.687  1.00 65.38      A    N\\nATOM    266  C   ARG    29      12.236  42.447  22.387  1.00 55.55      A    C\\nATOM    267  O   ARG    29      12.155  43.679  22.392  1.00 52.25      A    O\\nATOM    268  N   ALA    30      11.192  41.657  22.170  1.00 44.90      A    N\\nATOM    269  CA  ALA    30       9.871  42.202  21.921  1.00 55.14      A    C\\nATOM    270  CB  ALA    30       9.142  41.358  20.889  1.00 44.95      A    C\\nATOM    271  C   ALA    30       9.109  42.208  23.229  1.00 70.64      A    C\\nATOM    272  O   ALA    30       7.905  42.447  23.259  1.00 59.85      A    O\\nATOM    273  N   GLY    31       9.826  41.927  24.310  1.00 71.39      A    N\\nATOM    274  CA  GLY    31       9.224  41.917  25.631  1.00 59.65      A    C\\nATOM    275  C   GLY    31       8.128  40.893  25.835  1.00 62.33      A    C\\nATOM    276  O   GLY    31       7.367  40.985  26.793  1.00 67.95      A    O\\nATOM    277  N   LEU    32       8.034  39.909  24.954  1.00 66.59      A    N\\nATOM    278  CA  LEU    32       6.993  38.908  25.117  1.00 66.55      A    C\\nATOM    279  CB  LEU    32       6.725  38.195  23.794  1.00 64.30      A    C\\nATOM    280  CG  LEU    32       6.144  39.091  22.695  1.00 70.54      A    C\\nATOM    281  CD1 LEU    32       5.857  38.246  21.463  1.00 68.59      A    C\\nATOM    282  CD2 LEU    32       4.865  39.760  23.184  1.00 78.71      A    C\\nATOM    283  C   LEU    32       7.340  37.893  26.193  1.00 76.25      A    C\\nATOM    284  O   LEU    32       6.477  37.123  26.626  1.00 87.52      A    O\\nATOM    285  N   ILE    33       8.603  37.890  26.617  1.00 60.74      A    N\\nATOM    286  CA  ILE    33       9.076  36.972  27.657  1.00 53.54      A    C\\nATOM    287  CB  ILE    33       9.565  35.633  27.081  1.00 49.51      A    C\\nATOM    288  CG2 ILE    33       8.437  34.929  26.346  1.00 45.31      A    C\\nATOM    289  CG1 ILE    33      10.766  35.881  26.167  1.00 59.18      A    C\\nATOM    290  CD1 ILE    33      11.432  34.609  25.709  1.00 71.53      A    C\\nATOM    291  C   ILE    33      10.241  37.575  28.432  1.00 77.63      A    C\\nATOM    292  O   ILE    33      11.056  38.318  27.876  1.00 91.26      A    O\\nATOM    293  N   ASP    34      10.313  37.237  29.716  1.00 82.09      A    N\\nATOM    294  CA  ASP    34      11.359  37.738  30.600  1.00 83.55      A    C\\nATOM    295  CB  ASP    34      10.872  37.762  32.047  1.00 95.19      A    C\\nATOM    296  CG  ASP    34      10.618  36.371  32.600  1.00103.58      A    C\\nATOM    297  OD1 ASP    34       9.724  35.668  32.075  1.00113.52      A    O\\nATOM    298  OD2 ASP    34      11.318  35.985  33.561  1.00 90.59      A    O\\nATOM    299  C   ASP    34      12.602  36.882  30.520  1.00 69.67      A    C\\nATOM    300  O   ASP    34      12.539  35.702  30.169  1.00 67.37      A    O\\nATOM    301  N   TRP    35      13.729  37.480  30.877  1.00 56.59      A    N\\nATOM    302  CA  TRP    35      15.013  36.799  30.838  1.00 55.04      A    C\\nATOM    303  CB  TRP    35      16.037  37.626  31.608  1.00 49.63      A    C\\nATOM    304  CG  TRP    35      17.354  36.984  31.630  1.00 66.17      A    C\\nATOM    305  CD2 TRP    35      18.317  36.985  30.574  1.00 77.25      A    C\\nATOM    306  CE2 TRP    35      19.405  36.190  31.002  1.00 78.80      A    C\\nATOM    307  CE3 TRP    35      18.366  37.579  29.304  1.00 75.19      A    C\\nATOM    308  CD1 TRP    35      17.874  36.214  32.626  1.00 64.93      A    C\\nATOM    309  NE1 TRP    35      19.109  35.730  32.258  1.00 73.17      A    N\\nATOM    310  CZ2 TRP    35      20.533  35.975  30.201  1.00 74.80      A    C\\nATOM    311  CZ3 TRP    35      19.486  37.363  28.510  1.00 74.88      A    C\\nATOM    312  CH2 TRP    35      20.554  36.569  28.964  1.00 79.05      A    C\\nATOM    313  C   TRP    35      15.078  35.325  31.298  1.00 67.64      A    C\\nATOM    314  O   TRP    35      15.680  34.491  30.622  1.00 68.66      A    O\\nATOM    315  N   ASN    36      14.464  34.990  32.427  1.00 69.30      A    N\\nATOM    316  CA  ASN    36      14.518  33.614  32.916  1.00 74.77      A    C\\nATOM    317  CB  ASN    36      14.100  33.554  34.386  1.00 91.90      A    C\\nATOM    318  CG  ASN    36      14.952  34.446  35.279  1.00 90.24      A    C\\nATOM    319  OD1 ASN    36      16.180  34.341  35.306  1.00 63.49      A    O\\nATOM    320  ND2 ASN    36      14.294  35.331  36.021  1.00101.06      A    N\\nATOM    321  C   ASN    36      13.692  32.614  32.113  1.00 79.57      A    C\\nATOM    322  O   ASN    36      13.970  31.415  32.143  1.00 89.75      A    O\\nATOM    323  N   MET    37      12.666  33.090  31.420  1.00 78.93      A    N\\nATOM    324  CA  MET    37      11.841  32.205  30.602  1.00 79.11      A    C\\nATOM    325  CB  MET    37      10.504  32.875  30.269  1.00 75.36      A    C\\nATOM    326  CG  MET    37       9.636  32.090  29.295  1.00 84.61      A    C\\nATOM    327  SD  MET    37       8.896  30.450  30.014  0.48115.19      A   SE\\nATOM    328  CE  MET    37       7.121  30.534  29.236  1.00 84.90      A    C\\nATOM    329  C   MET    37      12.644  31.989  29.326  1.00 71.27      A    C\\nATOM    330  O   MET    37      12.574  30.938  28.681  1.00 76.23      A    O\\nATOM    331  N   PHE    38      13.414  33.016  28.982  1.00 52.81      A    N\\nATOM    332  CA  PHE    38      14.266  33.006  27.801  1.00 68.50      A    C\\nATOM    333  CB  PHE    38      14.910  34.385  27.635  1.00 75.73      A    C\\nATOM    334  CG  PHE    38      15.875  34.486  26.491  1.00 75.67      A    C\\nATOM    335  CD1 PHE    38      15.827  33.594  25.424  1.00 65.07      A    C\\nATOM    336  CD2 PHE    38      16.817  35.508  26.468  1.00 86.63      A    C\\nATOM    337  CE1 PHE    38      16.698  33.725  24.350  1.00 64.94      A    C\\nATOM    338  CE2 PHE    38      17.691  35.650  25.402  1.00 86.28      A    C\\nATOM    339  CZ  PHE    38      17.633  34.753  24.337  1.00 76.46      A    C\\nATOM    340  C   PHE    38      15.314  31.918  27.984  1.00 65.92      A    C\\nATOM    341  O   PHE    38      15.486  31.065  27.114  1.00 53.00      A    O\\nATOM    342  N   VAL    39      16.002  31.954  29.123  1.00 64.42      A    N\\nATOM    343  CA  VAL    39      17.008  30.956  29.463  1.00 58.21      A    C\\nATOM    344  CB  VAL    39      17.584  31.221  30.865  1.00 65.41      A    C\\nATOM    345  CG1 VAL    39      18.222  29.970  31.406  1.00 55.01      A    C\\nATOM    346  CG2 VAL    39      18.598  32.345  30.811  1.00 34.80      A    C\\nATOM    347  C   VAL    39      16.331  29.588  29.471  1.00 55.35      A    C\\nATOM    348  O   VAL    39      16.766  28.650  28.790  1.00 54.66      A    O\\nATOM    349  N   LYS    40      15.266  29.482  30.256  1.00 50.38      A    N\\nATOM    350  CA  LYS    40      14.523  28.238  30.349  1.00 60.53      A    C\\nATOM    351  CB  LYS    40      13.184  28.460  31.054  1.00 60.30      A    C\\nATOM    352  CG  LYS    40      12.200  27.305  30.887  1.00 74.65      A    C\\nATOM    353  CD  LYS    40      12.197  26.374  32.095  1.00100.69      A    C\\nATOM    354  CE  LYS    40      11.381  25.107  31.825  1.00109.07      A    C\\nATOM    355  NZ  LYS    40      12.053  24.201  30.842  1.00103.37      A    N\\nATOM    356  C   LYS    40      14.262  27.694  28.956  1.00 64.58      A    C\\nATOM    357  O   LYS    40      14.578  26.543  28.666  1.00 74.47      A    O\\nATOM    358  N   LEU    41      13.681  28.527  28.096  1.00 54.80      A    N\\nATOM    359  CA  LEU    41      13.360  28.112  26.731  1.00 63.98      A    C\\nATOM    360  CB  LEU    41      12.726  29.264  25.952  1.00 60.21      A    C\\nATOM    361  CG  LEU    41      11.234  29.481  26.192  1.00 55.95      A    C\\nATOM    362  CD1 LEU    41      10.752  30.611  25.320  1.00 60.23      A    C\\nATOM    363  CD2 LEU    41      10.465  28.216  25.870  1.00 57.93      A    C\\nATOM    364  C   LEU    41      14.556  27.575  25.959  1.00 56.34      A    C\\nATOM    365  O   LEU    41      14.457  26.529  25.316  1.00 50.43      A    O\\nATOM    366  N   ARG    42      15.669  28.308  26.021  1.00 51.50      A    N\\nATOM    367  CA  ARG    42      16.918  27.940  25.360  1.00 52.08      A    C\\nATOM    368  CB  ARG    42      18.001  28.967  25.681  1.00 54.00      A    C\\nATOM    369  CG  ARG    42      17.867  30.261  24.938  1.00 71.48      A    C\\nATOM    370  CD  ARG    42      18.224  30.078  23.487  1.00 88.40      A    C\\nATOM    371  NE  ARG    42      19.659  29.911  23.293  1.00 97.87      A    N\\nATOM    372  CZ  ARG    42      20.197  29.417  22.183  1.00 95.33      A    C\\nATOM    373  NH1 ARG    42      19.415  29.042  21.178  1.00 71.44      A    N\\nATOM    374  NH2 ARG    42      21.511  29.299  22.074  1.00102.14      A    N\\nATOM    375  C   ARG    42      17.414  26.559  25.794  1.00 70.18      A    C\\nATOM    376  O   ARG    42      17.739  25.715  24.951  1.00 75.35      A    O\\nATOM    377  N   SER    43      17.474  26.343  27.109  1.00 66.37      A    N\\nATOM    378  CA  SER    43      17.923  25.078  27.683  1.00 66.85      A    C\\nATOM    379  CB  SER    43      17.698  25.078  29.191  1.00 67.58      A    C\\nATOM    380  OG  SER    43      16.318  24.917  29.497  1.00 68.31      A    O\\nATOM    381  C   SER    43      17.173  23.889  27.087  1.00 80.39      A    C\\nATOM    382  O   SER    43      17.585  22.736  27.246  1.00 95.92      A    O\\nATOM    383  N   GLN    44      16.061  24.177  26.420  1.00 68.55      A    N\\nATOM    384  CA  GLN    44      15.235  23.149  25.799  1.00 73.56      A    C\\nATOM    385  CB  GLN    44      13.766  23.521  25.926  1.00 81.00      A    C\\nATOM    386  CG  GLN    44      13.070  22.895  27.100  1.00 87.45      A    C\\nATOM    387  CD  GLN    44      11.786  23.613  27.428  1.00 87.42      A    C\\nATOM    388  OE1 GLN    44      11.803  24.690  28.027  1.00 79.56      A    O\\nATOM    389  NE2 GLN    44      10.663  23.037  27.017  1.00 84.29      A    N\\nATOM    390  C   GLN    44      15.559  22.938  24.329  1.00 67.59      A    C\\nATOM    391  O   GLN    44      15.002  22.047  23.686  1.00 64.05      A    O\\nATOM    392  N   GLU    45      16.438  23.774  23.791  1.00 61.68      A    N\\nATOM    393  CA  GLU    45      16.825  23.657  22.393  1.00 56.50      A    C\\nATOM    394  CB  GLU    45      16.985  25.052  21.750  1.00 48.78      A    C\\nATOM    395  CG  GLU    45      15.684  25.873  21.671  1.00 69.59      A    C\\nATOM    396  CD  GLU    45      15.790  27.144  20.809  1.00 93.60      A    C\\nATOM    397  OE1 GLU    45      16.589  28.050  21.143  1.00 99.27      A    O\\nATOM    398  OE2 GLU    45      15.062  27.241  19.795  1.00 92.46      A    O\\nATOM    399  C   GLU    45      18.142  22.894  22.310  1.00 58.19      A    C\\nATOM    400  O   GLU    45      18.955  22.929  23.234  1.00 68.46      A    O\\nTER\\nEND\\n\");\n",
              "\tviewer_1629595510477731.setStyle({\"model\": -1},{\"cartoon\": {\"color\": \"blue\"}});\n",
              "\tviewer_1629595510477731.zoomTo();\n",
              "viewer_1629595510477731.render();\n",
              "});\n",
              "</script>"
            ]
          },
          "metadata": {}
        },
        {
          "output_type": "stream",
          "text": [
            "Decoy\n"
          ],
          "name": "stdout"
        },
        {
          "output_type": "display_data",
          "data": {
            "application/3dmoljs_load.v0": "<div id=\"3dmolviewer_16295955104854586\"  style=\"position: relative; width: 400px; height: 300px\">\n        <p id=\"3dmolwarning_16295955104854586\" style=\"background-color:#ffcccc;color:black\">You appear to be running in JupyterLab (or JavaScript failed to load for some other reason).  You need to install the 3dmol extension: <br>\n        <tt>jupyter labextension install jupyterlab_3dmol</tt></p>\n        </div>\n<script>\n\nvar loadScriptAsync = function(uri){\n  return new Promise((resolve, reject) => {\n    var tag = document.createElement('script');\n    tag.src = uri;\n    tag.async = true;\n    tag.onload = () => {\n      resolve();\n    };\n  var firstScriptTag = document.getElementsByTagName('script')[0];\n  firstScriptTag.parentNode.insertBefore(tag, firstScriptTag);\n});\n};\n\nif(typeof $3Dmolpromise === 'undefined') {\n$3Dmolpromise = null;\n  $3Dmolpromise = loadScriptAsync('https://3dmol.org/build/3Dmol.js');\n}\n\nvar viewer_16295955104854586 = null;\nvar warn = document.getElementById(\"3dmolwarning_16295955104854586\");\nif(warn) {\n    warn.parentNode.removeChild(warn);\n}\n$3Dmolpromise.then(function() {\nviewer_16295955104854586 = $3Dmol.createViewer($(\"#3dmolviewer_16295955104854586\"),{backgroundColor:\"white\"});\nviewer_16295955104854586.zoomTo();\n\tviewer_16295955104854586.addModelsAsFrames(\"PFRMAT TS\\nTARGET T0759\\nMODEL  1\\nPARENT 1lm7_A 1lm5_A 1lm5_B \\nATOM    171  N   VAL    12      62.865  53.708  60.836  1.00  1.92              \\nATOM    173  CA  VAL    12      64.292  53.419  60.655  1.00  1.92              \\nATOM    175  CB  VAL    12      65.091  54.101  61.801  1.00  1.92              \\nATOM    177  CG1 VAL    12      66.254  53.332  62.441  1.00  1.92              \\nATOM    181  CG2 VAL    12      65.702  55.394  61.269  1.00  1.92              \\nATOM    185  C   VAL    12      64.490  51.920  60.683  1.00  1.92              \\nATOM    186  O   VAL    12      63.915  51.230  61.517  1.00  1.92              \\nATOM    187  N   VAL    13      65.399  51.430  59.846  1.00  1.86              \\nATOM    189  CA  VAL    13      66.062  50.150  60.146  1.00  1.86              \\nATOM    191  CB  VAL    13      65.964  49.179  58.950  1.00  1.86              \\nATOM    193  CG1 VAL    13      66.418  47.764  59.330  1.00  1.86              \\nATOM    197  CG2 VAL    13      64.522  49.064  58.428  1.00  1.86              \\nATOM    201  C   VAL    13      67.495  50.527  60.495  1.00  1.86              \\nATOM    202  O   VAL    13      67.991  51.571  60.064  1.00  1.86              \\nATOM    203  N   ILE    14      68.176  49.705  61.276  1.00  2.12              \\nATOM    205  CA  ILE    14      69.624  49.814  61.414  1.00  2.12              \\nATOM    207  CB  ILE    14      70.088  50.143  62.853  1.00  2.12              \\nATOM    209  CG2 ILE    14      69.517  51.500  63.305  1.00  2.12              \\nATOM    213  CG1 ILE    14      69.864  49.051  63.927  1.00  2.12              \\nATOM    216  CD1 ILE    14      68.413  48.655  64.236  1.00  2.12              \\nATOM    220  C   ILE    14      70.209  48.530  60.867  1.00  2.12              \\nATOM    221  O   ILE    14      69.693  47.445  61.134  1.00  2.12              \\nATOM    222  N   HIS    15      71.235  48.664  60.038  1.00  2.14              \\nATOM    224  CA  HIS    15      71.952  47.518  59.512  1.00  2.14              \\nATOM    226  CB  HIS    15      72.426  47.813  58.086  1.00  2.14              \\nATOM    229  CG  HIS    15      73.079  46.623  57.437  1.00  2.14              \\nATOM    230  ND1 HIS    15      73.100  45.332  57.967  1.00  2.14              \\nATOM    231  CE1 HIS    15      73.890  44.617  57.158  1.00  2.14              \\nATOM    233  NE2 HIS    15      74.362  45.385  56.169  1.00  2.14              \\nATOM    235  CD2 HIS    15      73.853  46.654  56.317  1.00  2.14              \\nATOM    237  C   HIS    15      73.069  47.173  60.483  1.00  2.14              \\nATOM    238  O   HIS    15      73.945  48.020  60.685  1.00  2.14              \\nATOM    239  N   PRO    16      73.028  45.997  61.139  1.00  2.55              \\nATOM    240  CD  PRO    16      72.003  44.959  61.083  1.00  2.55              \\nATOM    243  CG  PRO    16      72.230  44.082  62.310  1.00  2.55              \\nATOM    246  CB  PRO    16      73.736  44.191  62.524  1.00  2.55              \\nATOM    249  CA  PRO    16      74.040  45.634  62.111  1.00  2.55              \\nATOM    251  C   PRO    16      75.473  45.775  61.589  1.00  2.55              \\nATOM    252  O   PRO    16      76.303  46.300  62.323  1.00  2.55              \\nATOM    253  N   ASP    17      75.768  45.365  60.344  1.00  2.53              \\nATOM    255  CA  ASP    17      77.158  45.343  59.856  1.00  2.53              \\nATOM    257  CB  ASP    17      77.360  44.441  58.605  1.00  2.53              \\nATOM    260  CG  ASP    17      77.614  45.102  57.236  1.00  2.53              \\nATOM    261  OD1 ASP    17      78.475  46.001  57.136  1.00  2.53              \\nATOM    262  OD2 ASP    17      76.936  44.692  56.264  1.00  2.53              \\nATOM    263  C   ASP    17      77.866  46.715  59.833  1.00  2.53              \\nATOM    264  O   ASP    17      78.941  46.835  60.426  1.00  2.53              \\nATOM    265  N   PRO    18      77.253  47.792  59.302  1.00  2.60              \\nATOM    266  CD  PRO    18      76.132  47.806  58.374  1.00  2.60              \\nATOM    269  CG  PRO    18      75.849  49.275  58.080  1.00  2.60              \\nATOM    272  CB  PRO    18      77.238  49.886  58.232  1.00  2.60              \\nATOM    275  CA  PRO    18      77.793  49.135  59.445  1.00  2.60              \\nATOM    277  C   PRO    18      77.403  49.828  60.762  1.00  2.60              \\nATOM    278  O   PRO    18      77.759  50.993  60.947  1.00  2.60              \\nATOM    279  N   GLY    19      76.559  49.216  61.605  1.00  2.40              \\nATOM    281  CA  GLY    19      75.828  49.847  62.719  1.00  2.40              \\nATOM    284  C   GLY    19      74.788  50.905  62.312  1.00  2.40              \\nATOM    285  O   GLY    19      73.839  51.178  63.046  1.00  2.40              \\nATOM    286  N   ARG    20      74.979  51.522  61.142  1.00  2.03              \\nATOM    288  CA  ARG    20      74.239  52.678  60.641  1.00  2.03              \\nATOM    290  CB  ARG    20      74.730  53.050  59.243  1.00  2.03              \\nATOM    293  CG  ARG    20      76.124  53.670  59.131  1.00  2.03              \\nATOM    296  CD  ARG    20      76.346  54.170  57.691  1.00  2.03              \\nATOM    299  NE  ARG    20      76.349  53.081  56.686  1.00  2.03              \\nATOM    301  CZ  ARG    20      75.316  52.575  56.020  1.00  2.03              \\nATOM    302  NH1 ARG    20      74.077  52.966  56.170  1.00  2.03              \\nATOM    305  NH2 ARG    20      75.534  51.611  55.168  1.00  2.03              \\nATOM    308  C   ARG    20      72.729  52.487  60.545  1.00  2.03              \\nATOM    309  O   ARG    20      72.223  51.474  60.064  1.00  2.03              \\nATOM    310  N   GLU    21      72.057  53.611  60.778  1.00  1.92              \\nATOM    312  CA  GLU    21      70.799  53.951  60.128  1.00  1.92              \\nATOM    314  CB  GLU    21      70.597  55.482  60.150  1.00  1.92              \\nATOM    317  CG  GLU    21      70.511  56.173  61.511  1.00  1.92              \\nATOM    320  CD  GLU    21      70.674  57.688  61.312  1.00  1.92              \\nATOM    321  OE1 GLU    21      71.752  58.233  61.639  1.00  1.92              \\nATOM    322  OE2 GLU    21      69.745  58.360  60.799  1.00  1.92              \\nATOM    323  C   GLU    21      70.787  53.592  58.638  1.00  1.92              \\nATOM    324  O   GLU    21      71.751  53.822  57.891  1.00  1.92              \\nATOM    325  N   LEU    22      69.613  53.180  58.184  1.00  1.64              \\nATOM    327  CA  LEU    22      69.157  53.387  56.825  1.00  1.64              \\nATOM    329  CB  LEU    22      69.820  52.367  55.870  1.00  1.64              \\nATOM    332  CG  LEU    22      69.394  50.890  55.899  1.00  1.64              \\nATOM    334  CD1 LEU    22      70.354  50.084  55.020  1.00  1.64              \\nATOM    338  CD2 LEU    22      69.416  50.234  57.276  1.00  1.64              \\nATOM    342  C   LEU    22      67.628  53.498  56.784  1.00  1.64              \\nATOM    343  O   LEU    22      66.923  53.160  57.756  1.00  1.64              \\nATOM    344  N   SER    23      67.092  54.085  55.703  1.00  1.61              \\nATOM    346  CA  SER    23      65.640  54.139  55.582  1.00  1.61              \\nATOM    348  CB  SER    23      65.093  55.045  54.487  1.00  1.61              \\nATOM    351  OG  SER    23      65.248  54.570  53.188  1.00  1.61              \\nATOM    353  C   SER    23      65.086  52.763  55.379  1.00  1.61              \\nATOM    354  O   SER    23      65.816  51.904  54.908  1.00  1.61              \\nATOM    355  N   PRO    24      63.800  52.541  55.664  1.00  1.46              \\nATOM    356  CD  PRO    24      62.956  53.233  56.623  1.00  1.46              \\nATOM    359  CG  PRO    24      61.854  52.233  56.972  1.00  1.46              \\nATOM    362  CB  PRO    24      61.734  51.414  55.686  1.00  1.46              \\nATOM    365  CA  PRO    24      63.164  51.344  55.197  1.00  1.46              \\nATOM    367  C   PRO    24      63.325  51.030  53.693  1.00  1.46              \\nATOM    368  O   PRO    24      63.540  49.875  53.324  1.00  1.46              \\nATOM    369  N   GLU    25      63.295  52.062  52.847  1.00  1.52              \\nATOM    371  CA  GLU    25      63.574  51.979  51.404  1.00  1.52              \\nATOM    373  CB  GLU    25      63.191  53.351  50.800  1.00  1.52              \\nATOM    376  CG  GLU    25      63.848  53.767  49.475  1.00  1.52              \\nATOM    379  CD  GLU    25      63.244  53.143  48.212  1.00  1.52              \\nATOM    380  OE1 GLU    25      63.943  53.100  47.169  1.00  1.52              \\nATOM    381  OE2 GLU    25      62.044  52.822  48.250  1.00  1.52              \\nATOM    382  C   GLU    25      65.029  51.587  51.133  1.00  1.52              \\nATOM    383  O   GLU    25      65.279  50.664  50.363  1.00  1.52              \\nATOM    384  N   GLU    26      66.005  52.222  51.789  1.00  1.69              \\nATOM    386  CA  GLU    26      67.412  51.857  51.630  1.00  1.69              \\nATOM    388  CB  GLU    26      68.376  52.730  52.455  1.00  1.69              \\nATOM    391  CG  GLU    26      68.922  54.003  51.804  1.00  1.69              \\nATOM    394  CD  GLU    26      67.967  55.176  51.978  1.00  1.69              \\nATOM    395  OE1 GLU    26      67.673  55.522  53.147  1.00  1.69              \\nATOM    396  OE2 GLU    26      67.437  55.665  50.958  1.00  1.69              \\nATOM    397  C   GLU    26      67.695  50.412  52.080  1.00  1.69              \\nATOM    398  O   GLU    26      68.507  49.723  51.471  1.00  1.69              \\nATOM    399  N   ALA    27      67.066  49.973  53.170  1.00  1.64              \\nATOM    401  CA  ALA    27      67.208  48.649  53.755  1.00  1.64              \\nATOM    403  CB  ALA    27      66.466  48.597  55.100  1.00  1.64              \\nATOM    407  C   ALA    27      66.678  47.571  52.798  1.00  1.64              \\nATOM    408  O   ALA    27      67.316  46.522  52.598  1.00  1.64              \\nATOM    409  N   HIS    28      65.532  47.865  52.166  1.00  1.79              \\nATOM    411  CA  HIS    28      65.004  47.018  51.104  1.00  1.79              \\nATOM    413  CB  HIS    28      63.633  47.529  50.648  1.00  1.79              \\nATOM    416  CG  HIS    28      63.267  47.033  49.270  1.00  1.79              \\nATOM    417  ND1 HIS    28      62.937  45.715  48.959  1.00  1.79              \\nATOM    418  CE1 HIS    28      63.025  45.619  47.626  1.00  1.79              \\nATOM    420  NE2 HIS    28      63.329  46.812  47.086  1.00  1.79              \\nATOM    422  CD2 HIS    28      63.489  47.719  48.109  1.00  1.79              \\nATOM    424  C   HIS    28      65.971  46.921  49.926  1.00  1.79              \\nATOM    425  O   HIS    28      66.338  45.822  49.517  1.00  1.79              \\nATOM    426  N   ARG    29      66.469  48.062  49.426  1.00  2.11              \\nATOM    428  CA  ARG    29      67.493  48.064  48.369  1.00  2.11              \\nATOM    430  CB  ARG    29      67.977  49.487  48.038  1.00  2.11              \\nATOM    433  CG  ARG    29      66.962  50.473  47.442  1.00  2.11              \\nATOM    436  CD  ARG    29      67.674  51.829  47.307  1.00  2.11              \\nATOM    439  NE  ARG    29      66.735  52.958  47.196  1.00  2.11              \\nATOM    441  CZ  ARG    29      66.856  54.162  47.728  1.00  2.11              \\nATOM    442  NH1 ARG    29      67.871  54.490  48.477  1.00  2.11              \\nATOM    445  NH2 ARG    29      65.912  55.033  47.542  1.00  2.11              \\nATOM    448  C   ARG    29      68.735  47.255  48.750  1.00  2.11              \\nATOM    449  O   ARG    29      69.388  46.717  47.861  1.00  2.11              \\nATOM    450  N   ALA    30      69.093  47.199  50.038  1.00  2.31              \\nATOM    452  CA  ALA    30      70.299  46.494  50.472  1.00  2.31              \\nATOM    454  CB  ALA    30      70.833  47.198  51.728  1.00  2.31              \\nATOM    458  C   ALA    30      70.000  45.013  50.755  1.00  2.31              \\nATOM    459  O   ALA    30      70.909  44.250  51.072  1.00  2.31              \\nATOM    460  N   GLY    31      68.727  44.609  50.685  1.00  2.42              \\nATOM    462  CA  GLY    31      68.285  43.253  50.976  1.00  2.42              \\nATOM    465  C   GLY    31      68.271  42.891  52.462  1.00  2.42              \\nATOM    466  O   GLY    31      68.025  41.741  52.817  1.00  2.42              \\nATOM    467  N   LEU    32      68.509  43.878  53.324  1.00  2.19              \\nATOM    469  CA  LEU    32      68.426  43.751  54.770  1.00  2.19              \\nATOM    471  CB  LEU    32      69.296  44.895  55.342  1.00  2.19              \\nATOM    474  CG  LEU    32      69.683  44.887  56.834  1.00  2.19              \\nATOM    476  CD1 LEU    32      68.629  45.496  57.758  1.00  2.19              \\nATOM    480  CD2 LEU    32      70.095  43.508  57.350  1.00  2.19              \\nATOM    484  C   LEU    32      66.981  43.775  55.276  1.00  2.19              \\nATOM    485  O   LEU    32      66.721  43.262  56.364  1.00  2.19              \\nATOM    486  N   ILE    33      66.027  44.282  54.483  1.00  2.10              \\nATOM    488  CA  ILE    33      64.610  43.929  54.733  1.00  2.10              \\nATOM    490  CB  ILE    33      63.882  45.086  55.455  1.00  2.10              \\nATOM    492  CG2 ILE    33      63.757  46.303  54.537  1.00  2.10              \\nATOM    496  CG1 ILE    33      62.505  44.659  56.002  1.00  2.10              \\nATOM    499  CD1 ILE    33      61.886  45.689  56.960  1.00  2.10              \\nATOM    503  C   ILE    33      63.936  43.462  53.438  1.00  2.10              \\nATOM    504  O   ILE    33      64.219  43.970  52.361  1.00  2.10              \\nATOM    505  N   ASP    34      63.039  42.482  53.537  1.00  2.25              \\nATOM    507  CA  ASP    34      62.183  42.078  52.418  1.00  2.25              \\nATOM    509  CB  ASP    34      61.393  40.806  52.828  1.00  2.25              \\nATOM    512  CG  ASP    34      59.906  40.807  52.434  1.00  2.25              \\nATOM    513  OD1 ASP    34      59.056  40.937  53.342  1.00  2.25              \\nATOM    514  OD2 ASP    34      59.591  40.762  51.224  1.00  2.25              \\nATOM    515  C   ASP    34      61.249  43.211  51.970  1.00  2.25              \\nATOM    516  O   ASP    34      60.745  43.968  52.801  1.00  2.25              \\nATOM    517  N   TRP    35      60.946  43.254  50.668  1.00  2.09              \\nATOM    519  CA  TRP    35      59.991  44.184  50.060  1.00  2.09              \\nATOM    521  CB  TRP    35      59.724  43.772  48.606  1.00  2.09              \\nATOM    524  CG  TRP    35      58.646  44.547  47.900  1.00  2.09              \\nATOM    525  CD1 TRP    35      57.372  44.126  47.725  1.00  2.09              \\nATOM    527  NE1 TRP    35      56.656  45.076  47.019  1.00  2.09              \\nATOM    529  CE2 TRP    35      57.450  46.148  46.667  1.00  2.09              \\nATOM    530  CZ2 TRP    35      57.213  47.316  45.923  1.00  2.09              \\nATOM    532  CH2 TRP    35      58.261  48.236  45.741  1.00  2.09              \\nATOM    534  CZ3 TRP    35      59.510  47.999  46.340  1.00  2.09              \\nATOM    536  CE3 TRP    35      59.723  46.834  47.100  1.00  2.09              \\nATOM    538  CD2 TRP    35      58.717  45.859  47.256  1.00  2.09              \\nATOM    539  C   TRP    35      58.671  44.316  50.824  1.00  2.09              \\nATOM    540  O   TRP    35      58.175  45.423  51.053  1.00  2.09              \\nATOM    541  N   ASN    36      58.096  43.183  51.222  1.00  2.27              \\nATOM    543  CA  ASN    36      56.780  43.097  51.838  1.00  2.27              \\nATOM    545  CB  ASN    36      56.312  41.637  51.676  1.00  2.27              \\nATOM    548  CG  ASN    36      54.808  41.493  51.698  1.00  2.27              \\nATOM    549  OD1 ASN    36      54.168  41.680  52.718  1.00  2.27              \\nATOM    550  ND2 ASN    36      54.192  41.141  50.596  1.00  2.27              \\nATOM    553  C   ASN    36      56.796  43.602  53.301  1.00  2.27              \\nATOM    554  O   ASN    36      55.865  44.278  53.758  1.00  2.27              \\nATOM    555  N   MET    37      57.848  43.317  54.071  1.00  2.13              \\nATOM    557  CA  MET    37      58.041  43.898  55.405  1.00  2.13              \\nATOM    559  CB  MET    37      59.128  43.141  56.183  1.00  2.13              \\nATOM    562  CG  MET    37      58.742  41.702  56.556  1.00  2.13              \\nATOM    565  SD  MET    37      57.168  41.481  57.438  1.00  2.13              \\nATOM    566  CE  MET    37      57.288  39.700  57.761  1.00  2.13              \\nATOM    570  C   MET    37      58.324  45.405  55.364  1.00  2.13              \\nATOM    571  O   MET    37      57.747  46.162  56.146  1.00  2.13              \\nATOM    572  N   PHE    38      59.125  45.857  54.402  1.00  1.75              \\nATOM    574  CA  PHE    38      59.364  47.270  54.101  1.00  1.75              \\nATOM    576  CB  PHE    38      60.410  47.305  52.973  1.00  1.75              \\nATOM    579  CG  PHE    38      60.446  48.471  52.009  1.00  1.75              \\nATOM    580  CD1 PHE    38      60.451  49.800  52.464  1.00  1.75              \\nATOM    582  CE1 PHE    38      60.546  50.851  51.533  1.00  1.75              \\nATOM    584  CZ  PHE    38      60.663  50.576  50.163  1.00  1.75              \\nATOM    586  CE2 PHE    38      60.709  49.254  49.712  1.00  1.75              \\nATOM    588  CD2 PHE    38      60.572  48.207  50.632  1.00  1.75              \\nATOM    590  C   PHE    38      58.072  48.038  53.783  1.00  1.75              \\nATOM    591  O   PHE    38      57.844  49.113  54.351  1.00  1.75              \\nATOM    592  N   VAL    39      57.189  47.476  52.942  1.00  1.77              \\nATOM    594  CA  VAL    39      55.896  48.105  52.617  1.00  1.77              \\nATOM    596  CB  VAL    39      55.227  47.569  51.323  1.00  1.77              \\nATOM    598  CG1 VAL    39      54.380  46.307  51.492  1.00  1.77              \\nATOM    602  CG2 VAL    39      54.319  48.631  50.683  1.00  1.77              \\nATOM    606  C   VAL    39      54.932  48.129  53.794  1.00  1.77              \\nATOM    607  O   VAL    39      54.261  49.146  53.972  1.00  1.77              \\nATOM    608  N   LYS    40      54.908  47.085  54.642  1.00  1.99              \\nATOM    610  CA  LYS    40      54.169  47.174  55.915  1.00  1.99              \\nATOM    612  CB  LYS    40      54.272  45.881  56.741  1.00  1.99              \\nATOM    615  CG  LYS    40      53.499  44.701  56.148  1.00  1.99              \\nATOM    618  CD  LYS    40      53.714  43.442  57.009  1.00  1.99              \\nATOM    621  CE  LYS    40      53.604  42.171  56.165  1.00  1.99              \\nATOM    624  NZ  LYS    40      54.796  42.014  55.299  1.00  1.99              \\nATOM    628  C   LYS    40      54.637  48.335  56.786  1.00  1.99              \\nATOM    629  O   LYS    40      53.830  49.165  57.190  1.00  1.99              \\nATOM    630  N   LEU    41      55.944  48.393  57.043  1.00  1.85              \\nATOM    632  CA  LEU    41      56.552  49.383  57.927  1.00  1.85              \\nATOM    634  CB  LEU    41      58.061  49.102  57.972  1.00  1.85              \\nATOM    637  CG  LEU    41      58.826  49.945  58.999  1.00  1.85              \\nATOM    639  CD1 LEU    41      58.231  49.788  60.398  1.00  1.85              \\nATOM    643  CD2 LEU    41      60.276  49.459  59.019  1.00  1.85              \\nATOM    647  C   LEU    41      56.206  50.808  57.491  1.00  1.85              \\nATOM    648  O   LEU    41      55.556  51.547  58.229  1.00  1.85              \\nATOM    649  N   ARG    42      56.497  51.108  56.221  1.00  1.62              \\nATOM    651  CA  ARG    42      56.062  52.335  55.541  1.00  1.62              \\nATOM    653  CB  ARG    42      56.325  52.147  54.039  1.00  1.62              \\nATOM    656  CG  ARG    42      57.563  52.878  53.550  1.00  1.62              \\nATOM    659  CD  ARG    42      58.829  52.509  54.309  1.00  1.62              \\nATOM    662  NE  ARG    42      59.207  53.534  55.296  1.00  1.62              \\nATOM    664  CZ  ARG    42      59.948  54.605  55.100  1.00  1.62              \\nATOM    665  NH1 ARG    42      60.496  54.837  53.935  1.00  1.62              \\nATOM    668  NH2 ARG    42      60.169  55.421  56.081  1.00  1.62              \\nATOM    671  C   ARG    42      54.589  52.643  55.726  1.00  1.62              \\nATOM    672  O   ARG    42      54.244  53.768  56.046  1.00  1.62              \\nATOM    673  N   SER    43      53.716  51.666  55.517  1.00  1.93              \\nATOM    675  CA  SER    43      52.274  51.884  55.635  1.00  1.93              \\nATOM    677  CB  SER    43      51.503  50.663  55.131  1.00  1.93              \\nATOM    680  OG  SER    43      51.868  50.324  53.804  1.00  1.93              \\nATOM    682  C   SER    43      51.830  52.186  57.044  1.00  1.93              \\nATOM    683  O   SER    43      50.841  52.870  57.195  1.00  1.93              \\nATOM    684  N   GLN    44      52.561  51.754  58.072  1.00  2.22              \\nATOM    686  CA  GLN    44      52.324  52.159  59.459  1.00  2.22              \\nATOM    688  CB  GLN    44      52.307  50.925  60.375  1.00  2.22              \\nATOM    691  CG  GLN    44      50.962  50.169  60.272  1.00  2.22              \\nATOM    694  CD  GLN    44      50.793  49.330  59.004  1.00  2.22              \\nATOM    695  OE1 GLN    44      51.348  48.248  58.880  1.00  2.22              \\nATOM    696  NE2 GLN    44      50.001  49.727  58.031  1.00  2.22              \\nATOM    699  C   GLN    44      53.201  53.332  59.920  1.00  2.22              \\nATOM    700  O   GLN    44      53.183  53.723  61.087  1.00  2.22              \\nATOM    701  N   GLU    45      53.882  53.966  58.971  1.00  2.06              \\nATOM    703  CA  GLU    45      54.248  55.375  59.025  1.00  2.06              \\nATOM    705  CB  GLU    45      55.661  55.577  58.445  1.00  2.06              \\nATOM    708  CG  GLU    45      56.741  54.776  59.202  1.00  2.06              \\nATOM    711  CD  GLU    45      58.061  54.776  58.433  1.00  2.06              \\nATOM    712  OE1 GLU    45      58.504  53.729  57.902  1.00  2.06              \\nATOM    713  OE2 GLU    45      58.665  55.865  58.282  1.00  2.06              \\nATOM    714  C   GLU    45      53.182  56.258  58.336  1.00  2.06              \\nATOM    715  O   GLU    45      52.741  57.168  59.012  1.00  2.06              \\nTER\\nEND\\n\");\n\tviewer_16295955104854586.setStyle({\"model\": -1},{\"cartoon\": {\"color\": \"salmon\"}});\n\tviewer_16295955104854586.zoomTo();\nviewer_16295955104854586.render();\n});\n</script>",
            "text/html": [
              "<div id=\"3dmolviewer_16295955104854586\"  style=\"position: relative; width: 400px; height: 300px\">\n",
              "        <p id=\"3dmolwarning_16295955104854586\" style=\"background-color:#ffcccc;color:black\">You appear to be running in JupyterLab (or JavaScript failed to load for some other reason).  You need to install the 3dmol extension: <br>\n",
              "        <tt>jupyter labextension install jupyterlab_3dmol</tt></p>\n",
              "        </div>\n",
              "<script>\n",
              "\n",
              "var loadScriptAsync = function(uri){\n",
              "  return new Promise((resolve, reject) => {\n",
              "    var tag = document.createElement('script');\n",
              "    tag.src = uri;\n",
              "    tag.async = true;\n",
              "    tag.onload = () => {\n",
              "      resolve();\n",
              "    };\n",
              "  var firstScriptTag = document.getElementsByTagName('script')[0];\n",
              "  firstScriptTag.parentNode.insertBefore(tag, firstScriptTag);\n",
              "});\n",
              "};\n",
              "\n",
              "if(typeof $3Dmolpromise === 'undefined') {\n",
              "$3Dmolpromise = null;\n",
              "  $3Dmolpromise = loadScriptAsync('https://3dmol.org/build/3Dmol.js');\n",
              "}\n",
              "\n",
              "var viewer_16295955104854586 = null;\n",
              "var warn = document.getElementById(\"3dmolwarning_16295955104854586\");\n",
              "if(warn) {\n",
              "    warn.parentNode.removeChild(warn);\n",
              "}\n",
              "$3Dmolpromise.then(function() {\n",
              "viewer_16295955104854586 = $3Dmol.createViewer($(\"#3dmolviewer_16295955104854586\"),{backgroundColor:\"white\"});\n",
              "viewer_16295955104854586.zoomTo();\n",
              "\tviewer_16295955104854586.addModelsAsFrames(\"PFRMAT TS\\nTARGET T0759\\nMODEL  1\\nPARENT 1lm7_A 1lm5_A 1lm5_B \\nATOM    171  N   VAL    12      62.865  53.708  60.836  1.00  1.92              \\nATOM    173  CA  VAL    12      64.292  53.419  60.655  1.00  1.92              \\nATOM    175  CB  VAL    12      65.091  54.101  61.801  1.00  1.92              \\nATOM    177  CG1 VAL    12      66.254  53.332  62.441  1.00  1.92              \\nATOM    181  CG2 VAL    12      65.702  55.394  61.269  1.00  1.92              \\nATOM    185  C   VAL    12      64.490  51.920  60.683  1.00  1.92              \\nATOM    186  O   VAL    12      63.915  51.230  61.517  1.00  1.92              \\nATOM    187  N   VAL    13      65.399  51.430  59.846  1.00  1.86              \\nATOM    189  CA  VAL    13      66.062  50.150  60.146  1.00  1.86              \\nATOM    191  CB  VAL    13      65.964  49.179  58.950  1.00  1.86              \\nATOM    193  CG1 VAL    13      66.418  47.764  59.330  1.00  1.86              \\nATOM    197  CG2 VAL    13      64.522  49.064  58.428  1.00  1.86              \\nATOM    201  C   VAL    13      67.495  50.527  60.495  1.00  1.86              \\nATOM    202  O   VAL    13      67.991  51.571  60.064  1.00  1.86              \\nATOM    203  N   ILE    14      68.176  49.705  61.276  1.00  2.12              \\nATOM    205  CA  ILE    14      69.624  49.814  61.414  1.00  2.12              \\nATOM    207  CB  ILE    14      70.088  50.143  62.853  1.00  2.12              \\nATOM    209  CG2 ILE    14      69.517  51.500  63.305  1.00  2.12              \\nATOM    213  CG1 ILE    14      69.864  49.051  63.927  1.00  2.12              \\nATOM    216  CD1 ILE    14      68.413  48.655  64.236  1.00  2.12              \\nATOM    220  C   ILE    14      70.209  48.530  60.867  1.00  2.12              \\nATOM    221  O   ILE    14      69.693  47.445  61.134  1.00  2.12              \\nATOM    222  N   HIS    15      71.235  48.664  60.038  1.00  2.14              \\nATOM    224  CA  HIS    15      71.952  47.518  59.512  1.00  2.14              \\nATOM    226  CB  HIS    15      72.426  47.813  58.086  1.00  2.14              \\nATOM    229  CG  HIS    15      73.079  46.623  57.437  1.00  2.14              \\nATOM    230  ND1 HIS    15      73.100  45.332  57.967  1.00  2.14              \\nATOM    231  CE1 HIS    15      73.890  44.617  57.158  1.00  2.14              \\nATOM    233  NE2 HIS    15      74.362  45.385  56.169  1.00  2.14              \\nATOM    235  CD2 HIS    15      73.853  46.654  56.317  1.00  2.14              \\nATOM    237  C   HIS    15      73.069  47.173  60.483  1.00  2.14              \\nATOM    238  O   HIS    15      73.945  48.020  60.685  1.00  2.14              \\nATOM    239  N   PRO    16      73.028  45.997  61.139  1.00  2.55              \\nATOM    240  CD  PRO    16      72.003  44.959  61.083  1.00  2.55              \\nATOM    243  CG  PRO    16      72.230  44.082  62.310  1.00  2.55              \\nATOM    246  CB  PRO    16      73.736  44.191  62.524  1.00  2.55              \\nATOM    249  CA  PRO    16      74.040  45.634  62.111  1.00  2.55              \\nATOM    251  C   PRO    16      75.473  45.775  61.589  1.00  2.55              \\nATOM    252  O   PRO    16      76.303  46.300  62.323  1.00  2.55              \\nATOM    253  N   ASP    17      75.768  45.365  60.344  1.00  2.53              \\nATOM    255  CA  ASP    17      77.158  45.343  59.856  1.00  2.53              \\nATOM    257  CB  ASP    17      77.360  44.441  58.605  1.00  2.53              \\nATOM    260  CG  ASP    17      77.614  45.102  57.236  1.00  2.53              \\nATOM    261  OD1 ASP    17      78.475  46.001  57.136  1.00  2.53              \\nATOM    262  OD2 ASP    17      76.936  44.692  56.264  1.00  2.53              \\nATOM    263  C   ASP    17      77.866  46.715  59.833  1.00  2.53              \\nATOM    264  O   ASP    17      78.941  46.835  60.426  1.00  2.53              \\nATOM    265  N   PRO    18      77.253  47.792  59.302  1.00  2.60              \\nATOM    266  CD  PRO    18      76.132  47.806  58.374  1.00  2.60              \\nATOM    269  CG  PRO    18      75.849  49.275  58.080  1.00  2.60              \\nATOM    272  CB  PRO    18      77.238  49.886  58.232  1.00  2.60              \\nATOM    275  CA  PRO    18      77.793  49.135  59.445  1.00  2.60              \\nATOM    277  C   PRO    18      77.403  49.828  60.762  1.00  2.60              \\nATOM    278  O   PRO    18      77.759  50.993  60.947  1.00  2.60              \\nATOM    279  N   GLY    19      76.559  49.216  61.605  1.00  2.40              \\nATOM    281  CA  GLY    19      75.828  49.847  62.719  1.00  2.40              \\nATOM    284  C   GLY    19      74.788  50.905  62.312  1.00  2.40              \\nATOM    285  O   GLY    19      73.839  51.178  63.046  1.00  2.40              \\nATOM    286  N   ARG    20      74.979  51.522  61.142  1.00  2.03              \\nATOM    288  CA  ARG    20      74.239  52.678  60.641  1.00  2.03              \\nATOM    290  CB  ARG    20      74.730  53.050  59.243  1.00  2.03              \\nATOM    293  CG  ARG    20      76.124  53.670  59.131  1.00  2.03              \\nATOM    296  CD  ARG    20      76.346  54.170  57.691  1.00  2.03              \\nATOM    299  NE  ARG    20      76.349  53.081  56.686  1.00  2.03              \\nATOM    301  CZ  ARG    20      75.316  52.575  56.020  1.00  2.03              \\nATOM    302  NH1 ARG    20      74.077  52.966  56.170  1.00  2.03              \\nATOM    305  NH2 ARG    20      75.534  51.611  55.168  1.00  2.03              \\nATOM    308  C   ARG    20      72.729  52.487  60.545  1.00  2.03              \\nATOM    309  O   ARG    20      72.223  51.474  60.064  1.00  2.03              \\nATOM    310  N   GLU    21      72.057  53.611  60.778  1.00  1.92              \\nATOM    312  CA  GLU    21      70.799  53.951  60.128  1.00  1.92              \\nATOM    314  CB  GLU    21      70.597  55.482  60.150  1.00  1.92              \\nATOM    317  CG  GLU    21      70.511  56.173  61.511  1.00  1.92              \\nATOM    320  CD  GLU    21      70.674  57.688  61.312  1.00  1.92              \\nATOM    321  OE1 GLU    21      71.752  58.233  61.639  1.00  1.92              \\nATOM    322  OE2 GLU    21      69.745  58.360  60.799  1.00  1.92              \\nATOM    323  C   GLU    21      70.787  53.592  58.638  1.00  1.92              \\nATOM    324  O   GLU    21      71.751  53.822  57.891  1.00  1.92              \\nATOM    325  N   LEU    22      69.613  53.180  58.184  1.00  1.64              \\nATOM    327  CA  LEU    22      69.157  53.387  56.825  1.00  1.64              \\nATOM    329  CB  LEU    22      69.820  52.367  55.870  1.00  1.64              \\nATOM    332  CG  LEU    22      69.394  50.890  55.899  1.00  1.64              \\nATOM    334  CD1 LEU    22      70.354  50.084  55.020  1.00  1.64              \\nATOM    338  CD2 LEU    22      69.416  50.234  57.276  1.00  1.64              \\nATOM    342  C   LEU    22      67.628  53.498  56.784  1.00  1.64              \\nATOM    343  O   LEU    22      66.923  53.160  57.756  1.00  1.64              \\nATOM    344  N   SER    23      67.092  54.085  55.703  1.00  1.61              \\nATOM    346  CA  SER    23      65.640  54.139  55.582  1.00  1.61              \\nATOM    348  CB  SER    23      65.093  55.045  54.487  1.00  1.61              \\nATOM    351  OG  SER    23      65.248  54.570  53.188  1.00  1.61              \\nATOM    353  C   SER    23      65.086  52.763  55.379  1.00  1.61              \\nATOM    354  O   SER    23      65.816  51.904  54.908  1.00  1.61              \\nATOM    355  N   PRO    24      63.800  52.541  55.664  1.00  1.46              \\nATOM    356  CD  PRO    24      62.956  53.233  56.623  1.00  1.46              \\nATOM    359  CG  PRO    24      61.854  52.233  56.972  1.00  1.46              \\nATOM    362  CB  PRO    24      61.734  51.414  55.686  1.00  1.46              \\nATOM    365  CA  PRO    24      63.164  51.344  55.197  1.00  1.46              \\nATOM    367  C   PRO    24      63.325  51.030  53.693  1.00  1.46              \\nATOM    368  O   PRO    24      63.540  49.875  53.324  1.00  1.46              \\nATOM    369  N   GLU    25      63.295  52.062  52.847  1.00  1.52              \\nATOM    371  CA  GLU    25      63.574  51.979  51.404  1.00  1.52              \\nATOM    373  CB  GLU    25      63.191  53.351  50.800  1.00  1.52              \\nATOM    376  CG  GLU    25      63.848  53.767  49.475  1.00  1.52              \\nATOM    379  CD  GLU    25      63.244  53.143  48.212  1.00  1.52              \\nATOM    380  OE1 GLU    25      63.943  53.100  47.169  1.00  1.52              \\nATOM    381  OE2 GLU    25      62.044  52.822  48.250  1.00  1.52              \\nATOM    382  C   GLU    25      65.029  51.587  51.133  1.00  1.52              \\nATOM    383  O   GLU    25      65.279  50.664  50.363  1.00  1.52              \\nATOM    384  N   GLU    26      66.005  52.222  51.789  1.00  1.69              \\nATOM    386  CA  GLU    26      67.412  51.857  51.630  1.00  1.69              \\nATOM    388  CB  GLU    26      68.376  52.730  52.455  1.00  1.69              \\nATOM    391  CG  GLU    26      68.922  54.003  51.804  1.00  1.69              \\nATOM    394  CD  GLU    26      67.967  55.176  51.978  1.00  1.69              \\nATOM    395  OE1 GLU    26      67.673  55.522  53.147  1.00  1.69              \\nATOM    396  OE2 GLU    26      67.437  55.665  50.958  1.00  1.69              \\nATOM    397  C   GLU    26      67.695  50.412  52.080  1.00  1.69              \\nATOM    398  O   GLU    26      68.507  49.723  51.471  1.00  1.69              \\nATOM    399  N   ALA    27      67.066  49.973  53.170  1.00  1.64              \\nATOM    401  CA  ALA    27      67.208  48.649  53.755  1.00  1.64              \\nATOM    403  CB  ALA    27      66.466  48.597  55.100  1.00  1.64              \\nATOM    407  C   ALA    27      66.678  47.571  52.798  1.00  1.64              \\nATOM    408  O   ALA    27      67.316  46.522  52.598  1.00  1.64              \\nATOM    409  N   HIS    28      65.532  47.865  52.166  1.00  1.79              \\nATOM    411  CA  HIS    28      65.004  47.018  51.104  1.00  1.79              \\nATOM    413  CB  HIS    28      63.633  47.529  50.648  1.00  1.79              \\nATOM    416  CG  HIS    28      63.267  47.033  49.270  1.00  1.79              \\nATOM    417  ND1 HIS    28      62.937  45.715  48.959  1.00  1.79              \\nATOM    418  CE1 HIS    28      63.025  45.619  47.626  1.00  1.79              \\nATOM    420  NE2 HIS    28      63.329  46.812  47.086  1.00  1.79              \\nATOM    422  CD2 HIS    28      63.489  47.719  48.109  1.00  1.79              \\nATOM    424  C   HIS    28      65.971  46.921  49.926  1.00  1.79              \\nATOM    425  O   HIS    28      66.338  45.822  49.517  1.00  1.79              \\nATOM    426  N   ARG    29      66.469  48.062  49.426  1.00  2.11              \\nATOM    428  CA  ARG    29      67.493  48.064  48.369  1.00  2.11              \\nATOM    430  CB  ARG    29      67.977  49.487  48.038  1.00  2.11              \\nATOM    433  CG  ARG    29      66.962  50.473  47.442  1.00  2.11              \\nATOM    436  CD  ARG    29      67.674  51.829  47.307  1.00  2.11              \\nATOM    439  NE  ARG    29      66.735  52.958  47.196  1.00  2.11              \\nATOM    441  CZ  ARG    29      66.856  54.162  47.728  1.00  2.11              \\nATOM    442  NH1 ARG    29      67.871  54.490  48.477  1.00  2.11              \\nATOM    445  NH2 ARG    29      65.912  55.033  47.542  1.00  2.11              \\nATOM    448  C   ARG    29      68.735  47.255  48.750  1.00  2.11              \\nATOM    449  O   ARG    29      69.388  46.717  47.861  1.00  2.11              \\nATOM    450  N   ALA    30      69.093  47.199  50.038  1.00  2.31              \\nATOM    452  CA  ALA    30      70.299  46.494  50.472  1.00  2.31              \\nATOM    454  CB  ALA    30      70.833  47.198  51.728  1.00  2.31              \\nATOM    458  C   ALA    30      70.000  45.013  50.755  1.00  2.31              \\nATOM    459  O   ALA    30      70.909  44.250  51.072  1.00  2.31              \\nATOM    460  N   GLY    31      68.727  44.609  50.685  1.00  2.42              \\nATOM    462  CA  GLY    31      68.285  43.253  50.976  1.00  2.42              \\nATOM    465  C   GLY    31      68.271  42.891  52.462  1.00  2.42              \\nATOM    466  O   GLY    31      68.025  41.741  52.817  1.00  2.42              \\nATOM    467  N   LEU    32      68.509  43.878  53.324  1.00  2.19              \\nATOM    469  CA  LEU    32      68.426  43.751  54.770  1.00  2.19              \\nATOM    471  CB  LEU    32      69.296  44.895  55.342  1.00  2.19              \\nATOM    474  CG  LEU    32      69.683  44.887  56.834  1.00  2.19              \\nATOM    476  CD1 LEU    32      68.629  45.496  57.758  1.00  2.19              \\nATOM    480  CD2 LEU    32      70.095  43.508  57.350  1.00  2.19              \\nATOM    484  C   LEU    32      66.981  43.775  55.276  1.00  2.19              \\nATOM    485  O   LEU    32      66.721  43.262  56.364  1.00  2.19              \\nATOM    486  N   ILE    33      66.027  44.282  54.483  1.00  2.10              \\nATOM    488  CA  ILE    33      64.610  43.929  54.733  1.00  2.10              \\nATOM    490  CB  ILE    33      63.882  45.086  55.455  1.00  2.10              \\nATOM    492  CG2 ILE    33      63.757  46.303  54.537  1.00  2.10              \\nATOM    496  CG1 ILE    33      62.505  44.659  56.002  1.00  2.10              \\nATOM    499  CD1 ILE    33      61.886  45.689  56.960  1.00  2.10              \\nATOM    503  C   ILE    33      63.936  43.462  53.438  1.00  2.10              \\nATOM    504  O   ILE    33      64.219  43.970  52.361  1.00  2.10              \\nATOM    505  N   ASP    34      63.039  42.482  53.537  1.00  2.25              \\nATOM    507  CA  ASP    34      62.183  42.078  52.418  1.00  2.25              \\nATOM    509  CB  ASP    34      61.393  40.806  52.828  1.00  2.25              \\nATOM    512  CG  ASP    34      59.906  40.807  52.434  1.00  2.25              \\nATOM    513  OD1 ASP    34      59.056  40.937  53.342  1.00  2.25              \\nATOM    514  OD2 ASP    34      59.591  40.762  51.224  1.00  2.25              \\nATOM    515  C   ASP    34      61.249  43.211  51.970  1.00  2.25              \\nATOM    516  O   ASP    34      60.745  43.968  52.801  1.00  2.25              \\nATOM    517  N   TRP    35      60.946  43.254  50.668  1.00  2.09              \\nATOM    519  CA  TRP    35      59.991  44.184  50.060  1.00  2.09              \\nATOM    521  CB  TRP    35      59.724  43.772  48.606  1.00  2.09              \\nATOM    524  CG  TRP    35      58.646  44.547  47.900  1.00  2.09              \\nATOM    525  CD1 TRP    35      57.372  44.126  47.725  1.00  2.09              \\nATOM    527  NE1 TRP    35      56.656  45.076  47.019  1.00  2.09              \\nATOM    529  CE2 TRP    35      57.450  46.148  46.667  1.00  2.09              \\nATOM    530  CZ2 TRP    35      57.213  47.316  45.923  1.00  2.09              \\nATOM    532  CH2 TRP    35      58.261  48.236  45.741  1.00  2.09              \\nATOM    534  CZ3 TRP    35      59.510  47.999  46.340  1.00  2.09              \\nATOM    536  CE3 TRP    35      59.723  46.834  47.100  1.00  2.09              \\nATOM    538  CD2 TRP    35      58.717  45.859  47.256  1.00  2.09              \\nATOM    539  C   TRP    35      58.671  44.316  50.824  1.00  2.09              \\nATOM    540  O   TRP    35      58.175  45.423  51.053  1.00  2.09              \\nATOM    541  N   ASN    36      58.096  43.183  51.222  1.00  2.27              \\nATOM    543  CA  ASN    36      56.780  43.097  51.838  1.00  2.27              \\nATOM    545  CB  ASN    36      56.312  41.637  51.676  1.00  2.27              \\nATOM    548  CG  ASN    36      54.808  41.493  51.698  1.00  2.27              \\nATOM    549  OD1 ASN    36      54.168  41.680  52.718  1.00  2.27              \\nATOM    550  ND2 ASN    36      54.192  41.141  50.596  1.00  2.27              \\nATOM    553  C   ASN    36      56.796  43.602  53.301  1.00  2.27              \\nATOM    554  O   ASN    36      55.865  44.278  53.758  1.00  2.27              \\nATOM    555  N   MET    37      57.848  43.317  54.071  1.00  2.13              \\nATOM    557  CA  MET    37      58.041  43.898  55.405  1.00  2.13              \\nATOM    559  CB  MET    37      59.128  43.141  56.183  1.00  2.13              \\nATOM    562  CG  MET    37      58.742  41.702  56.556  1.00  2.13              \\nATOM    565  SD  MET    37      57.168  41.481  57.438  1.00  2.13              \\nATOM    566  CE  MET    37      57.288  39.700  57.761  1.00  2.13              \\nATOM    570  C   MET    37      58.324  45.405  55.364  1.00  2.13              \\nATOM    571  O   MET    37      57.747  46.162  56.146  1.00  2.13              \\nATOM    572  N   PHE    38      59.125  45.857  54.402  1.00  1.75              \\nATOM    574  CA  PHE    38      59.364  47.270  54.101  1.00  1.75              \\nATOM    576  CB  PHE    38      60.410  47.305  52.973  1.00  1.75              \\nATOM    579  CG  PHE    38      60.446  48.471  52.009  1.00  1.75              \\nATOM    580  CD1 PHE    38      60.451  49.800  52.464  1.00  1.75              \\nATOM    582  CE1 PHE    38      60.546  50.851  51.533  1.00  1.75              \\nATOM    584  CZ  PHE    38      60.663  50.576  50.163  1.00  1.75              \\nATOM    586  CE2 PHE    38      60.709  49.254  49.712  1.00  1.75              \\nATOM    588  CD2 PHE    38      60.572  48.207  50.632  1.00  1.75              \\nATOM    590  C   PHE    38      58.072  48.038  53.783  1.00  1.75              \\nATOM    591  O   PHE    38      57.844  49.113  54.351  1.00  1.75              \\nATOM    592  N   VAL    39      57.189  47.476  52.942  1.00  1.77              \\nATOM    594  CA  VAL    39      55.896  48.105  52.617  1.00  1.77              \\nATOM    596  CB  VAL    39      55.227  47.569  51.323  1.00  1.77              \\nATOM    598  CG1 VAL    39      54.380  46.307  51.492  1.00  1.77              \\nATOM    602  CG2 VAL    39      54.319  48.631  50.683  1.00  1.77              \\nATOM    606  C   VAL    39      54.932  48.129  53.794  1.00  1.77              \\nATOM    607  O   VAL    39      54.261  49.146  53.972  1.00  1.77              \\nATOM    608  N   LYS    40      54.908  47.085  54.642  1.00  1.99              \\nATOM    610  CA  LYS    40      54.169  47.174  55.915  1.00  1.99              \\nATOM    612  CB  LYS    40      54.272  45.881  56.741  1.00  1.99              \\nATOM    615  CG  LYS    40      53.499  44.701  56.148  1.00  1.99              \\nATOM    618  CD  LYS    40      53.714  43.442  57.009  1.00  1.99              \\nATOM    621  CE  LYS    40      53.604  42.171  56.165  1.00  1.99              \\nATOM    624  NZ  LYS    40      54.796  42.014  55.299  1.00  1.99              \\nATOM    628  C   LYS    40      54.637  48.335  56.786  1.00  1.99              \\nATOM    629  O   LYS    40      53.830  49.165  57.190  1.00  1.99              \\nATOM    630  N   LEU    41      55.944  48.393  57.043  1.00  1.85              \\nATOM    632  CA  LEU    41      56.552  49.383  57.927  1.00  1.85              \\nATOM    634  CB  LEU    41      58.061  49.102  57.972  1.00  1.85              \\nATOM    637  CG  LEU    41      58.826  49.945  58.999  1.00  1.85              \\nATOM    639  CD1 LEU    41      58.231  49.788  60.398  1.00  1.85              \\nATOM    643  CD2 LEU    41      60.276  49.459  59.019  1.00  1.85              \\nATOM    647  C   LEU    41      56.206  50.808  57.491  1.00  1.85              \\nATOM    648  O   LEU    41      55.556  51.547  58.229  1.00  1.85              \\nATOM    649  N   ARG    42      56.497  51.108  56.221  1.00  1.62              \\nATOM    651  CA  ARG    42      56.062  52.335  55.541  1.00  1.62              \\nATOM    653  CB  ARG    42      56.325  52.147  54.039  1.00  1.62              \\nATOM    656  CG  ARG    42      57.563  52.878  53.550  1.00  1.62              \\nATOM    659  CD  ARG    42      58.829  52.509  54.309  1.00  1.62              \\nATOM    662  NE  ARG    42      59.207  53.534  55.296  1.00  1.62              \\nATOM    664  CZ  ARG    42      59.948  54.605  55.100  1.00  1.62              \\nATOM    665  NH1 ARG    42      60.496  54.837  53.935  1.00  1.62              \\nATOM    668  NH2 ARG    42      60.169  55.421  56.081  1.00  1.62              \\nATOM    671  C   ARG    42      54.589  52.643  55.726  1.00  1.62              \\nATOM    672  O   ARG    42      54.244  53.768  56.046  1.00  1.62              \\nATOM    673  N   SER    43      53.716  51.666  55.517  1.00  1.93              \\nATOM    675  CA  SER    43      52.274  51.884  55.635  1.00  1.93              \\nATOM    677  CB  SER    43      51.503  50.663  55.131  1.00  1.93              \\nATOM    680  OG  SER    43      51.868  50.324  53.804  1.00  1.93              \\nATOM    682  C   SER    43      51.830  52.186  57.044  1.00  1.93              \\nATOM    683  O   SER    43      50.841  52.870  57.195  1.00  1.93              \\nATOM    684  N   GLN    44      52.561  51.754  58.072  1.00  2.22              \\nATOM    686  CA  GLN    44      52.324  52.159  59.459  1.00  2.22              \\nATOM    688  CB  GLN    44      52.307  50.925  60.375  1.00  2.22              \\nATOM    691  CG  GLN    44      50.962  50.169  60.272  1.00  2.22              \\nATOM    694  CD  GLN    44      50.793  49.330  59.004  1.00  2.22              \\nATOM    695  OE1 GLN    44      51.348  48.248  58.880  1.00  2.22              \\nATOM    696  NE2 GLN    44      50.001  49.727  58.031  1.00  2.22              \\nATOM    699  C   GLN    44      53.201  53.332  59.920  1.00  2.22              \\nATOM    700  O   GLN    44      53.183  53.723  61.087  1.00  2.22              \\nATOM    701  N   GLU    45      53.882  53.966  58.971  1.00  2.06              \\nATOM    703  CA  GLU    45      54.248  55.375  59.025  1.00  2.06              \\nATOM    705  CB  GLU    45      55.661  55.577  58.445  1.00  2.06              \\nATOM    708  CG  GLU    45      56.741  54.776  59.202  1.00  2.06              \\nATOM    711  CD  GLU    45      58.061  54.776  58.433  1.00  2.06              \\nATOM    712  OE1 GLU    45      58.504  53.729  57.902  1.00  2.06              \\nATOM    713  OE2 GLU    45      58.665  55.865  58.282  1.00  2.06              \\nATOM    714  C   GLU    45      53.182  56.258  58.336  1.00  2.06              \\nATOM    715  O   GLU    45      52.741  57.168  59.012  1.00  2.06              \\nTER\\nEND\\n\");\n",
              "\tviewer_16295955104854586.setStyle({\"model\": -1},{\"cartoon\": {\"color\": \"salmon\"}});\n",
              "\tviewer_16295955104854586.zoomTo();\n",
              "viewer_16295955104854586.render();\n",
              "});\n",
              "</script>"
            ]
          },
          "metadata": {}
        }
      ]
    },
    {
      "cell_type": "markdown",
      "metadata": {
        "id": "HxsFy6qkmgkP"
      },
      "source": [
        "#The Graph Neural Network"
      ]
    },
    {
      "cell_type": "markdown",
      "metadata": {
        "id": "OI8iz25ZnO21"
      },
      "source": [
        "### Input features\n",
        "\n",
        "1. One hot encoded atom information\n",
        "\n",
        "2. One hot encoded residue information\n",
        "\n",
        "### GCN update equations\n",
        "\n",
        "\n",
        "$$\n",
        "h_{i}^{(l)}=\\sigma\\left( W_{\\mathrm{center}}^{(l)} h_i^{(l-1)}  +\\frac{1}{|\\mathcal{N}_{\\mathrm{same}}(i)|}\\sum_{j\\in \\mathcal{N}_{\\mathrm{same}}(i)}{W_{\\mathrm{same}}^{(l)} h_j^{(l-1)}  } +\\frac{1}{|\\mathcal{N}_{\\mathrm{other}}(i)|}\\sum_{j\\in \\mathcal{N}_{\\mathrm{other}}(i)}{W_{\\mathrm{other}}^{(l)} h_j^{(l-1)} } \\right)\n",
        "$$\n",
        "\n",
        "\n",
        "$$\n",
        "h_{i}^{(1)}=\\sigma\\left( W_{\\mathrm{center}}^{(0)} h_i^{(0)} + W_{\\mathrm{residue}} r_i +\\frac{1}{|\\mathcal{N}_{\\mathrm{same}}(i)|}\\sum_{j\\in \\mathcal{N}_{\\mathrm{same}}(i)}{W_{\\mathrm{same}}^{(0)} h_j^{(0)}  } +\\frac{1}{|\\mathcal{N}_{\\mathrm{other}}(i)|}\\sum_{j\\in \\mathcal{N}_{\\mathrm{other}}(i)}{W_{\\mathrm{other}}^{(0)} h_j^{(0)} } \\right)\n",
        "$$\n",
        "\n",
        "$h_i^{(0)}$: atom one-hot-encoding\n",
        "\n",
        "$r_i$ residue one-hot-encoding\n",
        "\n",
        "$\\mathcal{N}_{\\mathrm{same}}(i)$: the set of neighbouring atoms of atom $i$ that are within the same residue\n",
        "\n",
        "\n",
        "$\\mathcal{N}_{\\mathrm{other}}(i)$: the set of neighbouring atoms of atom $i$ that are from different residues\n",
        "\n",
        "$\\sigma$: the activation function\n",
        "\n",
        "\n",
        "\n"
      ]
    },
    {
      "cell_type": "markdown",
      "metadata": {
        "id": "UKWpBoJ2_Ni_"
      },
      "source": [
        "### Steps for computing GCN output"
      ]
    },
    {
      "cell_type": "markdown",
      "metadata": {
        "id": "f5xoap9pBIB1"
      },
      "source": [
        "In the following example we assume four different atom types: Carbon, Oxygen, Nitrogen, and Hydrogen.  Their one-hot-encoding is  [1,0,0,0] ,[0,1,0,0],[0,0,1,0] and [0,0,0,1], respectively.\n",
        "\n",
        "#### Computing the node signals, $W_{\\mathrm{center}}^{(0)} h^{(0)}$:\n"
      ]
    },
    {
      "cell_type": "code",
      "metadata": {
        "colab": {
          "base_uri": "https://localhost:8080/"
        },
        "id": "EZ__Lem1_WWl",
        "outputId": "b7cccb7a-fa55-465d-ac93-9034867453bd"
      },
      "source": [
        "one_hot_encoded_atom=torch.tensor([[1,0,0,0],[0,1,0,0],[0,0,1,0],[0,0,0,1]],dtype=torch.float32)\n",
        "Wv = torch.randn(4, 10)\n",
        "node_signals=one_hot_encoded_atom @ Wv\n",
        "node_signals"
      ],
      "execution_count": 4,
      "outputs": [
        {
          "output_type": "execute_result",
          "data": {
            "text/plain": [
              "tensor([[-0.0766,  0.3599, -0.7820,  0.0715,  0.6648, -0.2868,  1.6206, -1.5967,\n",
              "         -0.0517, -0.3060],\n",
              "        [ 0.2485, -0.2226,  0.9132,  0.2043,  0.5740,  0.4163,  0.2615,  0.9311,\n",
              "         -0.5145, -1.6517],\n",
              "        [ 1.0460,  0.5222, -0.1668,  0.0530, -1.1963,  1.0280,  0.0719, -0.1845,\n",
              "         -1.5159,  0.9125],\n",
              "        [ 0.2539, -0.6924,  0.5616, -0.2481, -1.0800,  0.5916,  0.7242, -0.3492,\n",
              "         -0.5290, -0.6895]])"
            ]
          },
          "metadata": {},
          "execution_count": 4
        }
      ]
    },
    {
      "cell_type": "markdown",
      "metadata": {
        "id": "E8MjRCdDYfP3"
      },
      "source": [
        "#### Computing $\\frac{1}{|\\mathcal{N}_{i}|}\\sum_{j\\in \\mathcal{N}_{i}} W_{\\mathrm{neighbors}}^{(l)} h_j^{(l-1)} $\n"
      ]
    },
    {
      "cell_type": "code",
      "metadata": {
        "id": "cBJglgIuBfmO",
        "colab": {
          "base_uri": "https://localhost:8080/"
        },
        "outputId": "63a7733f-25d6-4351-bcee-be749bf44b32"
      },
      "source": [
        "import torch\n",
        "# neigh_info:\n",
        "# the indices of the closest neighbours of the atoms of a protein. \n",
        "# In this example we have 4 atoms with 3 neighbours per atom. \n",
        "# If no neighbour is present, the index is -1.\n",
        "neigh_info=torch.tensor(\n",
        "                         [            \n",
        "                          [1,3,-1],   #neighbours of first atom \n",
        "                          [0,2,-1],   #neighbours of second atom \n",
        "                          [1,3,-1],   #neighbours of third atom \n",
        "                          [2,0,-1]    #neighbours of fourth atom \n",
        "                         ]\n",
        "                        )\n",
        "atom_feat=torch.randn((4,6))\n",
        "# atom_feat: \n",
        "# the features of all the atoms in a protein\n",
        "# Its dimensionality is [4,6] where  4 is the number of atoms and 6 is dimensionality\n",
        "# of the embedding space of each atom\n",
        "\n",
        "neigh_info.shape"
      ],
      "execution_count": 5,
      "outputs": [
        {
          "output_type": "execute_result",
          "data": {
            "text/plain": [
              "torch.Size([4, 3])"
            ]
          },
          "metadata": {},
          "execution_count": 5
        }
      ]
    },
    {
      "cell_type": "code",
      "metadata": {
        "colab": {
          "base_uri": "https://localhost:8080/"
        },
        "id": "_tRgvftTCdzD",
        "outputId": "615413d4-75d3-4718-813c-d81657c20342"
      },
      "source": [
        "print(f'Atom features \\n{atom_feat}')\n",
        "print(f'Neighbour information \\n{neigh_info}')"
      ],
      "execution_count": 6,
      "outputs": [
        {
          "output_type": "stream",
          "text": [
            "Atom features \n",
            "tensor([[ 0.6197,  1.9097, -1.5781,  0.5071,  0.2030, -0.2044],\n",
            "        [-0.4121,  0.6874,  0.1870, -0.1813, -0.0914, -0.7349],\n",
            "        [ 1.9859,  0.3625, -1.3898, -0.1593,  0.3290,  0.3323],\n",
            "        [ 0.3025, -0.9812,  1.1038, -0.0127, -0.6851, -0.3094]])\n",
            "Neighbour information \n",
            "tensor([[ 1,  3, -1],\n",
            "        [ 0,  2, -1],\n",
            "        [ 1,  3, -1],\n",
            "        [ 2,  0, -1]])\n"
          ],
          "name": "stdout"
        }
      ]
    },
    {
      "cell_type": "markdown",
      "metadata": {
        "id": "EafQTIwKhNiO"
      },
      "source": [
        "Computing the neighbour signals"
      ]
    },
    {
      "cell_type": "code",
      "metadata": {
        "colab": {
          "base_uri": "https://localhost:8080/"
        },
        "id": "yesrVFtyCjvF",
        "outputId": "75891d57-49c5-4775-bdae-563ebf4034af"
      },
      "source": [
        "W_n = torch.randn((6,10),dtype=torch.float32)\n",
        "neigh_signals=atom_feat@W_n \n",
        "neigh_signals"
      ],
      "execution_count": 7,
      "outputs": [
        {
          "output_type": "execute_result",
          "data": {
            "text/plain": [
              "tensor([[-2.5291e+00,  1.5964e+00, -1.7827e+00,  6.6213e+00,  5.1518e-01,\n",
              "         -1.5812e+00, -3.2709e-01, -4.6083e-01,  5.3199e-01, -3.1193e+00],\n",
              "        [ 2.5017e+00,  1.8114e+00, -1.5532e+00,  3.1614e-01, -6.8568e-01,\n",
              "         -1.2729e+00, -4.3150e-01, -3.1160e-02,  6.8073e-01,  5.7227e-01],\n",
              "        [-4.4771e+00, -1.4168e+00,  6.7928e-02,  3.6683e+00,  7.1513e-01,\n",
              "          2.1999e+00, -1.1692e+00, -4.4002e-02, -5.3678e-01, -5.1071e-01],\n",
              "        [ 2.6326e+00,  5.3903e-02, -2.9728e-01, -4.6095e+00, -5.6146e-03,\n",
              "          2.1165e-01,  5.1712e-01,  1.7492e-01, -3.2962e-01,  3.9706e+00]])"
            ]
          },
          "metadata": {},
          "execution_count": 7
        }
      ]
    },
    {
      "cell_type": "markdown",
      "metadata": {
        "id": "3Xz_eoAChp3V"
      },
      "source": [
        "Boolean matrix that indicates presence of a neighboring atom:"
      ]
    },
    {
      "cell_type": "code",
      "metadata": {
        "colab": {
          "base_uri": "https://localhost:8080/"
        },
        "id": "xP-TwMuy-eOd",
        "outputId": "747e4123-4f87-42f6-c27b-4fe8777e7b9e"
      },
      "source": [
        "neigh_indicator=(neigh_info>-1)\n",
        "neigh_indicator"
      ],
      "execution_count": 8,
      "outputs": [
        {
          "output_type": "execute_result",
          "data": {
            "text/plain": [
              "tensor([[ True,  True, False],\n",
              "        [ True,  True, False],\n",
              "        [ True,  True, False],\n",
              "        [ True,  True, False]])"
            ]
          },
          "metadata": {},
          "execution_count": 8
        }
      ]
    },
    {
      "cell_type": "markdown",
      "metadata": {
        "id": "sE6U5eMpl3Oa"
      },
      "source": [
        "Reshaping it:"
      ]
    },
    {
      "cell_type": "code",
      "metadata": {
        "colab": {
          "base_uri": "https://localhost:8080/"
        },
        "id": "tBBtRU-QmqRp",
        "outputId": "4278f7a1-bbd9-40f5-e7f6-ceb1c15c927d"
      },
      "source": [
        "unsqueezed_neigh_indicator=neigh_indicator.unsqueeze(2)\n",
        "unsqueezed_neigh_indicator"
      ],
      "execution_count": 9,
      "outputs": [
        {
          "output_type": "execute_result",
          "data": {
            "text/plain": [
              "tensor([[[ True],\n",
              "         [ True],\n",
              "         [False]],\n",
              "\n",
              "        [[ True],\n",
              "         [ True],\n",
              "         [False]],\n",
              "\n",
              "        [[ True],\n",
              "         [ True],\n",
              "         [False]],\n",
              "\n",
              "        [[ True],\n",
              "         [ True],\n",
              "         [False]]])"
            ]
          },
          "metadata": {},
          "execution_count": 9
        }
      ]
    },
    {
      "cell_type": "markdown",
      "metadata": {
        "id": "CyC5MBmR4e0K"
      },
      "source": [
        "Now its shape matches the shape of the neighbor signals:"
      ]
    },
    {
      "cell_type": "code",
      "metadata": {
        "colab": {
          "base_uri": "https://localhost:8080/"
        },
        "id": "dUKfchWz3xOL",
        "outputId": "416eae6d-12f6-4b33-d4e8-b203823f020d"
      },
      "source": [
        "unsqueezed_neigh_indicator.shape, neigh_signals[neigh_info].shape"
      ],
      "execution_count": 10,
      "outputs": [
        {
          "output_type": "execute_result",
          "data": {
            "text/plain": [
              "(torch.Size([4, 3, 1]), torch.Size([4, 3, 10]))"
            ]
          },
          "metadata": {},
          "execution_count": 10
        }
      ]
    },
    {
      "cell_type": "markdown",
      "metadata": {
        "id": "1RrIEdeAqvIi"
      },
      "source": [
        "Next, we compute the features of neighbouring atoms:"
      ]
    },
    {
      "cell_type": "code",
      "metadata": {
        "colab": {
          "base_uri": "https://localhost:8080/"
        },
        "id": "M7jc41l1lCCY",
        "outputId": "86b37a17-a80d-425d-abf7-e4bf743ffee5"
      },
      "source": [
        "neigh_features=neigh_signals[neigh_info]*unsqueezed_neigh_indicator\n",
        "print (neigh_features.shape)\n",
        "neigh_features"
      ],
      "execution_count": 11,
      "outputs": [
        {
          "output_type": "stream",
          "text": [
            "torch.Size([4, 3, 10])\n"
          ],
          "name": "stdout"
        },
        {
          "output_type": "execute_result",
          "data": {
            "text/plain": [
              "tensor([[[ 2.5017e+00,  1.8114e+00, -1.5532e+00,  3.1614e-01, -6.8568e-01,\n",
              "          -1.2729e+00, -4.3150e-01, -3.1160e-02,  6.8073e-01,  5.7227e-01],\n",
              "         [ 2.6326e+00,  5.3903e-02, -2.9728e-01, -4.6095e+00, -5.6146e-03,\n",
              "           2.1165e-01,  5.1712e-01,  1.7492e-01, -3.2962e-01,  3.9706e+00],\n",
              "         [ 0.0000e+00,  0.0000e+00, -0.0000e+00, -0.0000e+00, -0.0000e+00,\n",
              "           0.0000e+00,  0.0000e+00,  0.0000e+00, -0.0000e+00,  0.0000e+00]],\n",
              "\n",
              "        [[-2.5291e+00,  1.5964e+00, -1.7827e+00,  6.6213e+00,  5.1518e-01,\n",
              "          -1.5812e+00, -3.2709e-01, -4.6083e-01,  5.3199e-01, -3.1193e+00],\n",
              "         [-4.4771e+00, -1.4168e+00,  6.7928e-02,  3.6683e+00,  7.1513e-01,\n",
              "           2.1999e+00, -1.1692e+00, -4.4002e-02, -5.3678e-01, -5.1071e-01],\n",
              "         [ 0.0000e+00,  0.0000e+00, -0.0000e+00, -0.0000e+00, -0.0000e+00,\n",
              "           0.0000e+00,  0.0000e+00,  0.0000e+00, -0.0000e+00,  0.0000e+00]],\n",
              "\n",
              "        [[ 2.5017e+00,  1.8114e+00, -1.5532e+00,  3.1614e-01, -6.8568e-01,\n",
              "          -1.2729e+00, -4.3150e-01, -3.1160e-02,  6.8073e-01,  5.7227e-01],\n",
              "         [ 2.6326e+00,  5.3903e-02, -2.9728e-01, -4.6095e+00, -5.6146e-03,\n",
              "           2.1165e-01,  5.1712e-01,  1.7492e-01, -3.2962e-01,  3.9706e+00],\n",
              "         [ 0.0000e+00,  0.0000e+00, -0.0000e+00, -0.0000e+00, -0.0000e+00,\n",
              "           0.0000e+00,  0.0000e+00,  0.0000e+00, -0.0000e+00,  0.0000e+00]],\n",
              "\n",
              "        [[-4.4771e+00, -1.4168e+00,  6.7928e-02,  3.6683e+00,  7.1513e-01,\n",
              "           2.1999e+00, -1.1692e+00, -4.4002e-02, -5.3678e-01, -5.1071e-01],\n",
              "         [-2.5291e+00,  1.5964e+00, -1.7827e+00,  6.6213e+00,  5.1518e-01,\n",
              "          -1.5812e+00, -3.2709e-01, -4.6083e-01,  5.3199e-01, -3.1193e+00],\n",
              "         [ 0.0000e+00,  0.0000e+00, -0.0000e+00, -0.0000e+00, -0.0000e+00,\n",
              "           0.0000e+00,  0.0000e+00,  0.0000e+00, -0.0000e+00,  0.0000e+00]]])"
            ]
          },
          "metadata": {},
          "execution_count": 11
        }
      ]
    },
    {
      "cell_type": "markdown",
      "metadata": {
        "id": "pYQ11eXSu1O2"
      },
      "source": [
        "Next step:  $\\sum_{j\\in \\mathcal{N}_{i}} W_{\\mathrm{neighbors}}^{(l)} h_j^{(l-1)} $"
      ]
    },
    {
      "cell_type": "code",
      "metadata": {
        "colab": {
          "base_uri": "https://localhost:8080/"
        },
        "id": "3-OV-4Iss_OC",
        "outputId": "3bf4b041-b0a9-4538-a313-e9ff6df10f71"
      },
      "source": [
        "sum_neigh=torch.sum(neigh_features, 1)\n",
        "print(sum_neigh.shape)\n",
        "sum_neigh"
      ],
      "execution_count": 12,
      "outputs": [
        {
          "output_type": "stream",
          "text": [
            "torch.Size([4, 10])\n"
          ],
          "name": "stdout"
        },
        {
          "output_type": "execute_result",
          "data": {
            "text/plain": [
              "tensor([[ 5.1343e+00,  1.8653e+00, -1.8505e+00, -4.2934e+00, -6.9129e-01,\n",
              "         -1.0612e+00,  8.5617e-02,  1.4376e-01,  3.5112e-01,  4.5429e+00],\n",
              "        [-7.0063e+00,  1.7963e-01, -1.7148e+00,  1.0290e+01,  1.2303e+00,\n",
              "          6.1864e-01, -1.4963e+00, -5.0483e-01, -4.7990e-03, -3.6300e+00],\n",
              "        [ 5.1343e+00,  1.8653e+00, -1.8505e+00, -4.2934e+00, -6.9129e-01,\n",
              "         -1.0612e+00,  8.5617e-02,  1.4376e-01,  3.5112e-01,  4.5429e+00],\n",
              "        [-7.0063e+00,  1.7963e-01, -1.7148e+00,  1.0290e+01,  1.2303e+00,\n",
              "          6.1864e-01, -1.4963e+00, -5.0483e-01, -4.7990e-03, -3.6300e+00]])"
            ]
          },
          "metadata": {},
          "execution_count": 12
        }
      ]
    },
    {
      "cell_type": "markdown",
      "metadata": {
        "id": "BwXwWjBlrkVs"
      },
      "source": [
        "We still need to divide by the number of neighbors.  First, find the total number of  neighbouring atoms:"
      ]
    },
    {
      "cell_type": "code",
      "metadata": {
        "colab": {
          "base_uri": "https://localhost:8080/"
        },
        "id": "6GiaOaVWnF_3",
        "outputId": "7c9d131e-ebad-4cc6-c845-5402c4c8dae0"
      },
      "source": [
        "num_neigh=torch.sum(neigh_info>-1,1)\n",
        "num_neigh"
      ],
      "execution_count": 13,
      "outputs": [
        {
          "output_type": "execute_result",
          "data": {
            "text/plain": [
              "tensor([2, 2, 2, 2])"
            ]
          },
          "metadata": {},
          "execution_count": 13
        }
      ]
    },
    {
      "cell_type": "code",
      "metadata": {
        "colab": {
          "base_uri": "https://localhost:8080/"
        },
        "id": "qPBvwNRxy0MA",
        "outputId": "b318ea2f-2c35-49ab-a493-ee6e7719c4c8"
      },
      "source": [
        "num_neigh = num_neigh.unsqueeze(1)\n",
        "# To prevent divide by 0 error\n",
        "num_neigh[num_neigh==0]=1\n",
        "print(num_neigh.shape)\n",
        "num_neigh"
      ],
      "execution_count": 14,
      "outputs": [
        {
          "output_type": "stream",
          "text": [
            "torch.Size([4, 1])\n"
          ],
          "name": "stdout"
        },
        {
          "output_type": "execute_result",
          "data": {
            "text/plain": [
              "tensor([[2],\n",
              "        [2],\n",
              "        [2],\n",
              "        [2]])"
            ]
          },
          "metadata": {},
          "execution_count": 14
        }
      ]
    },
    {
      "cell_type": "code",
      "metadata": {
        "id": "QZ5ULPSt8K4w"
      },
      "source": [
        ""
      ],
      "execution_count": 14,
      "outputs": []
    },
    {
      "cell_type": "markdown",
      "metadata": {
        "id": "PFnbxxRp8UM_"
      },
      "source": [
        "Now its shape matches the shape of `sum_neigh`:"
      ]
    },
    {
      "cell_type": "code",
      "metadata": {
        "colab": {
          "base_uri": "https://localhost:8080/"
        },
        "id": "fw45KuWG79dE",
        "outputId": "0e7cc465-cbe2-412c-d3de-bfd655209e1e"
      },
      "source": [
        "sum_neigh.shape"
      ],
      "execution_count": 15,
      "outputs": [
        {
          "output_type": "execute_result",
          "data": {
            "text/plain": [
              "torch.Size([4, 10])"
            ]
          },
          "metadata": {},
          "execution_count": 15
        }
      ]
    },
    {
      "cell_type": "markdown",
      "metadata": {
        "id": "eJal8PbtvPiy"
      },
      "source": [
        "Finally, we can compute $\\frac{1}{|\\mathcal{N}_{i}|}\\sum_{j\\in \\mathcal{N}_{i}} W_{\\mathrm{neighbors}}^{(l)} h_j^{(l-1)} $"
      ]
    },
    {
      "cell_type": "code",
      "metadata": {
        "colab": {
          "base_uri": "https://localhost:8080/"
        },
        "id": "BIRL7Du7r43C",
        "outputId": "a94d5777-3e64-4eb0-abb8-140c4f2cac20"
      },
      "source": [
        "final_neigh_features=(sum_neigh/num_neigh)\n",
        "final_neigh_features"
      ],
      "execution_count": 16,
      "outputs": [
        {
          "output_type": "execute_result",
          "data": {
            "text/plain": [
              "tensor([[ 2.5672e+00,  9.3266e-01, -9.2526e-01, -2.1467e+00, -3.4565e-01,\n",
              "         -5.3060e-01,  4.2809e-02,  7.1881e-02,  1.7556e-01,  2.2714e+00],\n",
              "        [-3.5031e+00,  8.9815e-02, -8.5739e-01,  5.1448e+00,  6.1515e-01,\n",
              "          3.0932e-01, -7.4814e-01, -2.5242e-01, -2.3995e-03, -1.8150e+00],\n",
              "        [ 2.5672e+00,  9.3266e-01, -9.2526e-01, -2.1467e+00, -3.4565e-01,\n",
              "         -5.3060e-01,  4.2809e-02,  7.1881e-02,  1.7556e-01,  2.2714e+00],\n",
              "        [-3.5031e+00,  8.9815e-02, -8.5739e-01,  5.1448e+00,  6.1515e-01,\n",
              "          3.0932e-01, -7.4814e-01, -2.5242e-01, -2.3995e-03, -1.8150e+00]])"
            ]
          },
          "metadata": {},
          "execution_count": 16
        }
      ]
    },
    {
      "cell_type": "markdown",
      "metadata": {
        "id": "13e7lii98CI1"
      },
      "source": [
        "\n",
        "## GNN code"
      ]
    },
    {
      "cell_type": "code",
      "metadata": {
        "id": "qqI1QAF1l9cM"
      },
      "source": [
        "class GNN_Layer(nn.Module):\n",
        "\n",
        "    def __init__(self, filters, v_feats, trainable=True, **kwargs):\n",
        "\n",
        "        super(GNN_Layer, self).__init__()\n",
        "        self.v_feats = v_feats\n",
        "        self.filters = filters\n",
        "\n",
        "        self.trainable = trainable\n",
        "        use_cuda = torch.cuda.is_available()\n",
        "        device = torch.device(\"cuda:0\" if use_cuda else \"cpu\")\n",
        "        self.cuda_device=device\n",
        "        self.Wsv = nn.Parameter( torch.randn(self.v_feats, self.filters, device=self.cuda_device,requires_grad=True))\n",
        "        self.Wdr = nn.Parameter( torch.randn(self.v_feats, self.filters, device=self.cuda_device,requires_grad=True))\n",
        "        self.Wsr = nn.Parameter( torch.randn(self.v_feats, self.filters, device=self.cuda_device,requires_grad=True))\n",
        "        self.neighbours=10\n",
        "\n",
        "    def forward(self, x):\n",
        "        Z,same_neigh,diff_neigh = x\n",
        "        node_signals = Z@self.Wsv\n",
        "        neigh_signals_same=Z@self.Wsr\n",
        "        neigh_signals_diff=Z@self.Wdr\n",
        "        unsqueezed_same_neigh_indicator=(same_neigh>-1).unsqueeze(2)\n",
        "        unsqueezed_diff_neigh_indicator=(diff_neigh>-1).unsqueeze(2)\n",
        "        same_neigh_features=neigh_signals_same[same_neigh]*unsqueezed_same_neigh_indicator\n",
        "        diff_neigh_features=neigh_signals_diff[diff_neigh]*unsqueezed_diff_neigh_indicator\n",
        "        same_norm = torch.sum(same_neigh > -1, 1).unsqueeze(1).type(torch.float)\n",
        "        diff_norm = torch.sum(diff_neigh > -1, 1).unsqueeze(1).type(torch.float)\n",
        "\n",
        "        # To prevent divide by zero error\n",
        "        same_norm[same_norm==0]=1\n",
        "        diff_norm[diff_norm==0]=1        \n",
        "        neigh_same_atoms_signal = (torch.sum(same_neigh_features, axis=1))/same_norm\n",
        "        neigh_diff_atoms_signal = (torch.sum(diff_neigh_features, axis=1))/diff_norm\n",
        "        final_res = torch.relu(node_signals +neigh_same_atoms_signal+neigh_diff_atoms_signal)\n",
        "\n",
        "        return final_res,same_neigh,diff_neigh\n",
        "\n",
        "class GNN_First_Layer(nn.Module):\n",
        "\n",
        "    def __init__(self, filters, trainable=True, **kwargs):\n",
        "\n",
        "        super(GNN_First_Layer, self).__init__()\n",
        "        self.filters = filters\n",
        "\n",
        "        self.trainable = trainable\n",
        "        use_cuda = torch.cuda.is_available()\n",
        "        device = torch.device(\"cuda:0\" if use_cuda else \"cpu\")\n",
        "        self.cuda_device = device\n",
        "        self.Wv = nn.Parameter( torch.randn(13, self.filters, device=self.cuda_device,requires_grad=True))\n",
        "        self.Wr = nn.Parameter( torch.randn(21,self.filters, device=self.cuda_device,requires_grad=True))\n",
        "        self.Wsr= nn.Parameter( torch.randn(13, self.filters, device=self.cuda_device,requires_grad=True))\n",
        "        self.Wdr= nn.Parameter( torch.randn(13, self.filters, device=self.cuda_device,requires_grad=True))\n",
        "        self.neighbours=10\n",
        "\n",
        "\n",
        "    def forward(self, x):\n",
        "\n",
        "        atoms, residues,same_neigh,diff_neigh = x\n",
        "        node_signals = atoms@self.Wv\n",
        "        residue_signals = residues@self.Wr\n",
        "        neigh_signals_same=atoms@self.Wsr\n",
        "        neigh_signals_diff=atoms@self.Wdr\n",
        "        unsqueezed_same_neigh_indicator=(same_neigh>-1).unsqueeze(2)\n",
        "        unsqueezed_diff_neigh_indicator=(diff_neigh>-1).unsqueeze(2)\n",
        "        same_neigh_features=neigh_signals_same[same_neigh]*unsqueezed_same_neigh_indicator\n",
        "        diff_neigh_features=neigh_signals_diff[diff_neigh]*unsqueezed_diff_neigh_indicator\n",
        "        same_norm = torch.sum(same_neigh > -1, 1).unsqueeze(1).type(torch.float)\n",
        "        diff_norm = torch.sum(diff_neigh > -1, 1).unsqueeze(1).type(torch.float)\n",
        "\n",
        "        # To prevent divide by zero error\n",
        "        same_norm[same_norm==0]=1\n",
        "        diff_norm[diff_norm==0]=1        \n",
        "        neigh_same_atoms_signal=(torch.sum(same_neigh_features, axis=1))/same_norm\n",
        "        neigh_diff_atoms_signal=(torch.sum(diff_neigh_features, axis=1))/diff_norm\n",
        "        \n",
        "        final_res = torch.relu(node_signals+residue_signals +neigh_same_atoms_signal+neigh_diff_atoms_signal)\n",
        "        return final_res, same_neigh,diff_neigh\n",
        "\n",
        "\n",
        "class Dense(nn.Module):\n",
        "    def __init__(self, in_dims, out_dims, trainable=True, **kwargs):\n",
        "\n",
        "        super(Dense, self).__init__()\n",
        "        self.in_dims = in_dims\n",
        "        self.out_dims = out_dims\n",
        "        use_cuda = torch.cuda.is_available()\n",
        "        device = torch.device(\"cuda:0\" if use_cuda else \"cpu\")\n",
        "        self.cuda_device = device\n",
        "\n",
        "        self.W = nn.Parameter( torch.randn(self.in_dims, self.out_dims, device=self.cuda_device,requires_grad=True))\n",
        "\n",
        "    def forward(self, x):\n",
        "        \n",
        "        Z = torch.sigmoid(torch.matmul(x, self.W))\n",
        "\n",
        "        return Z\n",
        "\n",
        "class GNN(torch.nn.Module):\n",
        "    def __init__(self):\n",
        "        super(GNN, self).__init__()\n",
        "        self.conv1 = GNN_First_Layer(filters=128)\n",
        "        self.conv2 = GNN_Layer(v_feats=128, filters=256)\n",
        "        self.conv3 = GNN_Layer(v_feats=256, filters=512)\n",
        "        self.dense = Dense(in_dims=512, out_dims=1)\n",
        "        \n",
        "    def forward(self, x):\n",
        "        x1=self.conv1(x)\n",
        "        x2=self.conv2(x1)\n",
        "        x3=self.conv3(x2)\n",
        "        x4=self.dense(x3[0])\n",
        "\n",
        "        return torch.mean(x4,axis=0)\n"
      ],
      "execution_count": 17,
      "outputs": []
    },
    {
      "cell_type": "markdown",
      "metadata": {
        "id": "VwoSSfAPDOCo"
      },
      "source": [
        "## GNN Training"
      ]
    },
    {
      "cell_type": "code",
      "metadata": {
        "id": "7kMKuQYXWwfX",
        "colab": {
          "base_uri": "https://localhost:8080/",
          "height": 959
        },
        "outputId": "63123b5d-1996-4b71-df94-871005f04a3e"
      },
      "source": [
        "data_loc=(\"Data/train_data/*/*\")\n",
        "label_loc=(\"Data/train_label/\")\n",
        "workers=0\n",
        "batch_size=10\n",
        "loader_info=data1(data_loc,label_loc,batch_size,workers)\n",
        "\n",
        "train(GNN(),get_dataloader(loader_info))"
      ],
      "execution_count": 18,
      "outputs": [
        {
          "output_type": "stream",
          "text": [
            "0\n",
            "L2 Loss=0.043498922139406204 for batch number 0, for epoch = 0 \n",
            "L2 Loss=0.022320738062262535 for batch number 1, for epoch = 0 \n",
            "L2 Loss=0.14383049309253693 for batch number 2, for epoch = 0 \n",
            "L2 Loss=0.10116837173700333 for batch number 3, for epoch = 0 \n",
            "L2 Loss=0.06233253702521324 for batch number 4, for epoch = 0 \n",
            "L2 Loss=0.037468794733285904 for batch number 5, for epoch = 0 \n",
            "Loss for epoch =0 is 0.41061985678970814\n",
            "1\n",
            "L2 Loss=0.026852339506149292 for batch number 0, for epoch = 1 \n",
            "L2 Loss=0.018403878435492516 for batch number 1, for epoch = 1 \n",
            "L2 Loss=0.14972297847270966 for batch number 2, for epoch = 1 \n",
            "L2 Loss=0.10805578529834747 for batch number 3, for epoch = 1 \n",
            "L2 Loss=0.05053916200995445 for batch number 4, for epoch = 1 \n",
            "L2 Loss=0.02962108887732029 for batch number 5, for epoch = 1 \n",
            "Loss for epoch =1 is 0.3831952325999737\n",
            "2\n",
            "L2 Loss=0.02323739044368267 for batch number 0, for epoch = 2 \n",
            "L2 Loss=0.017722824588418007 for batch number 1, for epoch = 2 \n",
            "L2 Loss=0.14872561395168304 for batch number 2, for epoch = 2 \n",
            "L2 Loss=0.10443806648254395 for batch number 3, for epoch = 2 \n",
            "L2 Loss=0.0498812161386013 for batch number 4, for epoch = 2 \n",
            "L2 Loss=0.030223360285162926 for batch number 5, for epoch = 2 \n",
            "Loss for epoch =2 is 0.3742284718900919\n",
            "3\n",
            "L2 Loss=0.025092674419283867 for batch number 0, for epoch = 3 \n",
            "L2 Loss=0.01832466945052147 for batch number 1, for epoch = 3 \n",
            "L2 Loss=0.1379610300064087 for batch number 2, for epoch = 3 \n",
            "L2 Loss=0.09947530180215836 for batch number 3, for epoch = 3 \n",
            "L2 Loss=0.049092479050159454 for batch number 4, for epoch = 3 \n",
            "L2 Loss=0.02779129520058632 for batch number 5, for epoch = 3 \n",
            "Loss for epoch =3 is 0.35773744992911816\n",
            "4\n",
            "L2 Loss=0.02212151326239109 for batch number 0, for epoch = 4 \n",
            "L2 Loss=0.017894385382533073 for batch number 1, for epoch = 4 \n",
            "L2 Loss=0.14722567796707153 for batch number 2, for epoch = 4 \n",
            "L2 Loss=0.10536322742700577 for batch number 3, for epoch = 4 \n",
            "L2 Loss=0.04465849697589874 for batch number 4, for epoch = 4 \n",
            "L2 Loss=0.02659427933394909 for batch number 5, for epoch = 4 \n",
            "Loss for epoch =4 is 0.3638575803488493\n"
          ],
          "name": "stdout"
        },
        {
          "output_type": "display_data",
          "data": {
            "image/png": "[encoded data removed]",
            "text/plain": [
              "<Figure size 432x288 with 1 Axes>"
            ]
          },
          "metadata": {
            "needs_background": "light"
          }
        }
      ]
    },
    {
      "cell_type": "markdown",
      "metadata": {
        "id": "HOjfQlabDQuJ"
      },
      "source": [
        "## GNN Testing"
      ]
    },
    {
      "cell_type": "code",
      "metadata": {
        "id": "qotMtxQCZQ7p",
        "colab": {
          "base_uri": "https://localhost:8080/",
          "height": 347
        },
        "outputId": "64d68576-a1c9-4680-a57e-a798576fd1e5"
      },
      "source": [
        "data_loc=(\"Data/test_data/*/*\")\n",
        "label_loc=(\"Data/test_label/\")\n",
        "workers=0\n",
        "batch_size=10\n",
        "temp=data1(data_loc,label_loc,batch_size,workers)\n",
        "test(GNN(),get_dataloader(temp),'modelGCNL2_Global_Basic1.ckpt')    "
      ],
      "execution_count": 19,
      "outputs": [
        {
          "output_type": "stream",
          "text": [
            "--->0\n",
            "--->1\n",
            "--->2\n",
            "--->3\n"
          ],
          "name": "stdout"
        },
        {
          "output_type": "display_data",
          "data": {
            "image/png": "[encoded data removed]",
            "text/plain": [
              "<Figure size 432x288 with 1 Axes>"
            ]
          },
          "metadata": {
            "needs_background": "light"
          }
        }
      ]
    },
    {
      "cell_type": "markdown",
      "metadata": {
        "id": "AcpU9kAt9bJl"
      },
      "source": [
        "### GNN performance on the training set"
      ]
    },
    {
      "cell_type": "code",
      "metadata": {
        "id": "U1qcV5zutVmI",
        "colab": {
          "base_uri": "https://localhost:8080/",
          "height": 381
        },
        "outputId": "28bc7ea9-d1c8-47d8-953d-039691cfaefe"
      },
      "source": [
        "data_loc=(\"Data/train_data/*/*\")\n",
        "label_loc=(\"Data/train_label/\")\n",
        "workers=0\n",
        "batch_size=10\n",
        "temp=data1(data_loc,label_loc,batch_size,workers)\n",
        "test(GNN(),get_dataloader(temp),'modelGCNL2_Global_Basic1.ckpt')    "
      ],
      "execution_count": 20,
      "outputs": [
        {
          "output_type": "stream",
          "text": [
            "--->0\n",
            "--->1\n",
            "--->2\n",
            "--->3\n",
            "--->4\n",
            "--->5\n"
          ],
          "name": "stdout"
        },
        {
          "output_type": "display_data",
          "data": {
            "image/png": "[encoded data removed]",
            "text/plain": [
              "<Figure size 432x288 with 1 Axes>"
            ]
          },
          "metadata": {
            "needs_background": "light"
          }
        }
      ]
    }
  ]
}